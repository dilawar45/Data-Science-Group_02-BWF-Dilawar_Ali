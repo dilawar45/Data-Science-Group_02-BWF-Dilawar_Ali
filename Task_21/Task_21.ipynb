{
  "nbformat": 4,
  "nbformat_minor": 0,
  "metadata": {
    "colab": {
      "provenance": []
    },
    "kernelspec": {
      "name": "python3",
      "display_name": "Python 3"
    },
    "language_info": {
      "name": "python"
    }
  },
  "cells": [
    {
      "cell_type": "markdown",
      "source": [
        "# **TASK_21**"
      ],
      "metadata": {
        "id": "BEEkeEOKZJdZ"
      }
    },
    {
      "cell_type": "code",
      "execution_count": 1,
      "metadata": {
        "id": "Puvo65UXS9QU"
      },
      "outputs": [],
      "source": [
        "import numpy as np"
      ]
    },
    {
      "cell_type": "markdown",
      "source": [
        "# **Linear Algebra Tasks**"
      ],
      "metadata": {
        "id": "c0kgFbIbZZIS"
      }
    },
    {
      "cell_type": "markdown",
      "source": [
        "# **1. Matrix Creation and Manipulation**"
      ],
      "metadata": {
        "id": "CbVoQ1kzToaR"
      }
    },
    {
      "cell_type": "code",
      "source": [
        "#Create various types of matrices (zero matrix, identity matrix, random matrix)\n",
        "zero_matrix = np.zeros((3, 3))\n",
        "print(\"Zero Matrix:\\n\", zero_matrix)\n",
        "\n",
        "identity_matrix = np.eye(3)\n",
        "print(\"\\nIdentity Matrix:\\n\", identity_matrix)\n",
        "\n",
        "random_matrix = np.random.rand(3, 3)\n",
        "print(\"\\nRandom Matrix:\\n\", random_matrix)\n"
      ],
      "metadata": {
        "colab": {
          "base_uri": "https://localhost:8080/"
        },
        "collapsed": true,
        "id": "tt-dnaQdTlM5",
        "outputId": "b93950da-a068-42c0-ae72-1f1fd3e447d8"
      },
      "execution_count": 11,
      "outputs": [
        {
          "output_type": "stream",
          "name": "stdout",
          "text": [
            "Zero Matrix:\n",
            " [[0. 0. 0.]\n",
            " [0. 0. 0.]\n",
            " [0. 0. 0.]]\n",
            "\n",
            "Identity Matrix:\n",
            " [[1. 0. 0.]\n",
            " [0. 1. 0.]\n",
            " [0. 0. 1.]]\n",
            "\n",
            "Random Matrix:\n",
            " [[0.87657118 0.72615223 0.1410353 ]\n",
            " [0.52401201 0.14894102 0.08292796]\n",
            " [0.70002377 0.84279997 0.97042104]]\n"
          ]
        }
      ]
    },
    {
      "cell_type": "code",
      "source": [
        "#Perform basic matrix operations (addition, subtraction, multiplication)\n",
        "addition= zero_matrix + identity_matrix\n",
        "print(\"\\nAddition:\\n\", addition)\n",
        "\n",
        "subtraction = zero_matrix - identity_matrix\n",
        "print(\"\\nSubtraction:\\n\", subtraction)\n",
        "\n",
        "multiplication = random_matrix * identity_matrix\n",
        "print(\"\\nMultiplication:\\n\", multiplication)\n"
      ],
      "metadata": {
        "colab": {
          "base_uri": "https://localhost:8080/"
        },
        "collapsed": true,
        "id": "_fKhtSrRUDDJ",
        "outputId": "37b2b2f1-e1f7-4ed8-b6d6-6f5fceb02f2f"
      },
      "execution_count": 13,
      "outputs": [
        {
          "output_type": "stream",
          "name": "stdout",
          "text": [
            "\n",
            "Addition:\n",
            " [[1. 0. 0.]\n",
            " [0. 1. 0.]\n",
            " [0. 0. 1.]]\n",
            "\n",
            "Subtraction:\n",
            " [[-1.  0.  0.]\n",
            " [ 0. -1.  0.]\n",
            " [ 0.  0. -1.]]\n",
            "\n",
            "Multiplication:\n",
            " [[0.87657118 0.         0.        ]\n",
            " [0.         0.14894102 0.        ]\n",
            " [0.         0.         0.97042104]]\n"
          ]
        }
      ]
    },
    {
      "cell_type": "code",
      "source": [
        "#Transpose a matrix and find the determinant and inverse of a matrix.\n",
        "transpose_matrix = np.transpose(random_matrix)\n",
        "print(\"\\nTranspose of Random Matrix:\\n\", transpose_matrix)\n",
        "\n",
        "# Determinant of a matrix\n",
        "determinant = np.linalg.det(random_matrix)\n",
        "print(\"\\nDeterminant of Random Matrix:\\n\", determinant)\n",
        "\n",
        "# Inverse of a matrix\n",
        "inverse_matrix = np.linalg.inv(random_matrix)\n",
        "print(\"\\nInverse of Random Matrix:\\n\", inverse_matrix)"
      ],
      "metadata": {
        "colab": {
          "base_uri": "https://localhost:8080/"
        },
        "collapsed": true,
        "id": "2K4LQ8yJVSuk",
        "outputId": "f09764bb-7edc-44f1-c932-8ae1efacfa09"
      },
      "execution_count": 14,
      "outputs": [
        {
          "output_type": "stream",
          "name": "stdout",
          "text": [
            "\n",
            "Transpose of Random Matrix:\n",
            " [[0.87657118 0.52401201 0.70002377]\n",
            " [0.72615223 0.14894102 0.84279997]\n",
            " [0.1410353  0.08292796 0.97042104]]\n",
            "\n",
            "Determinant of Random Matrix:\n",
            " -0.21409065451349255\n",
            "\n",
            "Inverse of Random Matrix:\n",
            " [[-0.34865519  2.7362654  -0.18315783]\n",
            " [ 2.10406539 -3.51213393 -0.00566085]\n",
            " [-1.57585137  1.07641479  1.16751981]]\n"
          ]
        }
      ]
    },
    {
      "cell_type": "markdown",
      "source": [
        "# **2. Solving Linear Equations**"
      ],
      "metadata": {
        "id": "A0j0iWOTVs-S"
      }
    },
    {
      "cell_type": "code",
      "source": [
        "# System of linear equations\n",
        "A = np.array([[3, 1], [1, 2]])\n",
        "b = np.array([9, 8])\n",
        "\n",
        "# Solve the system of equations Ax = b\n",
        "x = np.linalg.solve(A, b)\n",
        "print(\"Solution of the system of equations:\\n\", x)\n",
        "\n",
        "# LU decomposition\n",
        "from scipy.linalg import lu\n",
        "\n",
        "P, L, U = lu(A)\n",
        "print(\"\\nLU Decomposition:\\nP:\\n\", P, \"\\nL:\\n\", L, \"\\nU:\\n\", U)\n",
        "\n",
        "# QR decomposition\n",
        "Q, R = np.linalg.qr(A)\n",
        "print(\"\\nQR Decomposition:\\nQ:\\n\", Q, \"\\nR:\\n\", R)\n"
      ],
      "metadata": {
        "colab": {
          "base_uri": "https://localhost:8080/"
        },
        "collapsed": true,
        "id": "6HT78TohVjsk",
        "outputId": "c3d4b67e-37a2-4cde-ef4e-c2ac0c8ab2d7"
      },
      "execution_count": 15,
      "outputs": [
        {
          "output_type": "stream",
          "name": "stdout",
          "text": [
            "Solution of the system of equations:\n",
            " [2. 3.]\n",
            "\n",
            "LU Decomposition:\n",
            "P:\n",
            " [[1. 0.]\n",
            " [0. 1.]] \n",
            "L:\n",
            " [[1.         0.        ]\n",
            " [0.33333333 1.        ]] \n",
            "U:\n",
            " [[3.         1.        ]\n",
            " [0.         1.66666667]]\n",
            "\n",
            "QR Decomposition:\n",
            "Q:\n",
            " [[-0.9486833  -0.31622777]\n",
            " [-0.31622777  0.9486833 ]] \n",
            "R:\n",
            " [[-3.16227766 -1.58113883]\n",
            " [ 0.          1.58113883]]\n"
          ]
        }
      ]
    },
    {
      "cell_type": "markdown",
      "source": [
        "# **3. Eigenvalues and Eigenvectors**"
      ],
      "metadata": {
        "id": "_7pGTt_DWBWh"
      }
    },
    {
      "cell_type": "code",
      "source": [
        "# Matrix for eigenvalue and eigenvector calculation\n",
        "matrix = np.array([[4, -2], [1, 1]])\n",
        "\n",
        "# Calculate eigenvalues and eigenvectors\n",
        "eigenvalues, eigenvectors = np.linalg.eig(matrix)\n",
        "print(\"Eigenvalues:\\n\", eigenvalues)\n",
        "print(\"Eigenvectors:\\n\", eigenvectors)\n",
        "\n",
        "# Reconstructing the original matrix\n",
        "reconstructed_matrix = eigenvectors @ np.diag(eigenvalues) @ np.linalg.inv(eigenvectors)\n",
        "print(\"\\nReconstructed Matrix:\\n\", reconstructed_matrix)\n"
      ],
      "metadata": {
        "colab": {
          "base_uri": "https://localhost:8080/"
        },
        "collapsed": true,
        "id": "mY_O9LDpWG14",
        "outputId": "ee486b8a-06d3-4278-d11d-06058e9431bc"
      },
      "execution_count": 16,
      "outputs": [
        {
          "output_type": "stream",
          "name": "stdout",
          "text": [
            "Eigenvalues:\n",
            " [3. 2.]\n",
            "Eigenvectors:\n",
            " [[0.89442719 0.70710678]\n",
            " [0.4472136  0.70710678]]\n",
            "\n",
            "Reconstructed Matrix:\n",
            " [[ 4. -2.]\n",
            " [ 1.  1.]]\n"
          ]
        }
      ]
    },
    {
      "cell_type": "markdown",
      "source": [
        "# **4. Vector Operations**"
      ],
      "metadata": {
        "id": "K6e8eIggWO8_"
      }
    },
    {
      "cell_type": "code",
      "source": [
        "# Define two vectors\n",
        "vector_a = np.array([1, 2, 3])\n",
        "vector_b = np.array([4, 5, 6])\n",
        "\n",
        "# Vector addition\n",
        "vector_addition = vector_a + vector_b\n",
        "print(\"Vector Addition:\\n\", vector_addition)\n",
        "\n",
        "# Dot product\n",
        "dot_product = np.dot(vector_a, vector_b)\n",
        "print(\"\\nDot Product:\\n\", dot_product)\n",
        "\n",
        "# Cross product\n",
        "cross_product = np.cross(vector_a, vector_b)\n",
        "print(\"\\nCross Product:\\n\", cross_product)\n",
        "\n",
        "# Normalize a vector\n",
        "norm_a = np.linalg.norm(vector_a)\n",
        "normalized_vector = vector_a / norm_a\n",
        "print(\"\\nNormalized Vector:\\n\", normalized_vector)\n",
        "\n",
        "# Compute vector norms\n",
        "l2_norm = np.linalg.norm(vector_a)\n",
        "print(\"\\nL2 Norm of Vector A:\\n\", l2_norm)\n"
      ],
      "metadata": {
        "colab": {
          "base_uri": "https://localhost:8080/"
        },
        "collapsed": true,
        "id": "pVvelbH5Wala",
        "outputId": "23cd42ce-aa4a-4bd1-f630-d62c086d0c03"
      },
      "execution_count": 17,
      "outputs": [
        {
          "output_type": "stream",
          "name": "stdout",
          "text": [
            "Vector Addition:\n",
            " [5 7 9]\n",
            "\n",
            "Dot Product:\n",
            " 32\n",
            "\n",
            "Cross Product:\n",
            " [-3  6 -3]\n",
            "\n",
            "Normalized Vector:\n",
            " [0.26726124 0.53452248 0.80178373]\n",
            "\n",
            "L2 Norm of Vector A:\n",
            " 3.7416573867739413\n"
          ]
        }
      ]
    },
    {
      "cell_type": "markdown",
      "source": [
        "# **5. Matrix Decomposition**"
      ],
      "metadata": {
        "id": "yhaK0uFXWkGY"
      }
    },
    {
      "cell_type": "code",
      "source": [
        "# PCA using SVD\n",
        "from sklearn.decomposition import PCA\n",
        "import seaborn as sns\n",
        "\n",
        "# Loadind the Iris dataset\n",
        "iris = sns.load_dataset(\"iris\")\n",
        "X = iris.drop(columns=['species'])\n",
        "\n",
        "# Perform PCA\n",
        "pca = PCA(n_components=2)\n",
        "X_pca = pca.fit_transform(X)\n",
        "\n",
        "print(\"PCA Result:\\n\", X_pca[:5])\n",
        "\n",
        "# PCA using SVD\n",
        "U, S, VT = np.linalg.svd(X - X.mean(axis=0), full_matrices=False)\n",
        "X_svd = np.dot(U, np.diag(S))[:, :2]\n",
        "print(\"\\nSVD Result:\\n\", X_svd[:5])\n"
      ],
      "metadata": {
        "colab": {
          "base_uri": "https://localhost:8080/"
        },
        "collapsed": true,
        "id": "E0DM4Ne8Wn9V",
        "outputId": "d8b6cf79-9858-4a62-9e3a-e4ef4ab622b7"
      },
      "execution_count": 19,
      "outputs": [
        {
          "output_type": "stream",
          "name": "stdout",
          "text": [
            "PCA Result:\n",
            " [[-2.68412563  0.31939725]\n",
            " [-2.71414169 -0.17700123]\n",
            " [-2.88899057 -0.14494943]\n",
            " [-2.74534286 -0.31829898]\n",
            " [-2.72871654  0.32675451]]\n",
            "\n",
            "SVD Result:\n",
            " [[-2.68412563 -0.31939725]\n",
            " [-2.71414169  0.17700123]\n",
            " [-2.88899057  0.14494943]\n",
            " [-2.74534286  0.31829898]\n",
            " [-2.72871654 -0.32675451]]\n"
          ]
        }
      ]
    },
    {
      "cell_type": "markdown",
      "source": [
        "# **Calcalus Tasks**"
      ],
      "metadata": {
        "id": "uxS6JLvRW7gP"
      }
    },
    {
      "cell_type": "markdown",
      "source": [
        "# **1. Numerical Differentiation**"
      ],
      "metadata": {
        "id": "UfgY_CPrXCQF"
      }
    },
    {
      "cell_type": "code",
      "source": [
        "import numpy as np\n",
        "\n",
        "# Define the function\n",
        "def f(x):\n",
        "    return x**2 + 3*x + 2\n",
        "\n",
        "# Numerical derivative using forward difference\n",
        "def forward_difference(f, x, h=1e-5):\n",
        "    return (f(x + h) - f(x)) / h\n",
        "\n",
        "# Numerical derivative using backward difference\n",
        "def backward_difference(f, x, h=1e-5):\n",
        "    return (f(x) - f(x - h)) / h\n",
        "\n",
        "# Numerical derivative using central difference\n",
        "def central_difference(f, x, h=1e-5):\n",
        "    return (f(x + h) - f(x - h)) / (2 * h)\n",
        "\n",
        "# Calculate derivatives at x = 1\n",
        "x = 1\n",
        "forward_diff = forward_difference(f, x)\n",
        "backward_diff = backward_difference(f, x)\n",
        "central_diff = central_difference(f, x)\n",
        "\n",
        "print(\"Forward Difference at x=1:\", forward_diff)\n",
        "print(\"Backward Difference at x=1:\", backward_diff)\n",
        "print(\"Central Difference at x=1:\", central_diff)\n"
      ],
      "metadata": {
        "colab": {
          "base_uri": "https://localhost:8080/"
        },
        "id": "IszmXzsyXBo5",
        "outputId": "464846a9-fe3f-4259-fea9-7205b72c7cc4"
      },
      "execution_count": 20,
      "outputs": [
        {
          "output_type": "stream",
          "name": "stdout",
          "text": [
            "Forward Difference at x=1: 5.0000099999891745\n",
            "Backward Difference at x=1: 4.99998999998752\n",
            "Central Difference at x=1: 4.999999999988347\n"
          ]
        }
      ]
    },
    {
      "cell_type": "markdown",
      "source": [
        "# **2. Numerical Integration**"
      ],
      "metadata": {
        "id": "Yh2NGukFYJBz"
      }
    },
    {
      "cell_type": "code",
      "source": [
        "from scipy.integrate import quad, simps\n",
        "\n",
        "# Define the function\n",
        "def f(x):\n",
        "    return x**2 + 3*x + 2\n",
        "\n",
        "# Numerical integration using quad (adaptive quadrature)\n",
        "integral_quad, _ = quad(f, 0, 1)\n",
        "print(\"Integral using quad:\", integral_quad)\n",
        "\n",
        "# Numerical integration using trapezoidal rule\n",
        "x = np.linspace(0, 1, 100)\n",
        "y = f(x)\n",
        "integral_trapz = np.trapz(y, x)\n",
        "print(\"Integral using trapezoidal rule:\", integral_trapz)\n",
        "\n",
        "# Numerical integration using Simpson's rule\n",
        "integral_simps = simps(y, x)\n",
        "print(\"Integral using Simpson's rule:\", integral_simps)\n"
      ],
      "metadata": {
        "colab": {
          "base_uri": "https://localhost:8080/"
        },
        "id": "5HGArOgYYN4-",
        "outputId": "a248a976-beb1-4c75-a4a9-170449be0fa1"
      },
      "execution_count": 21,
      "outputs": [
        {
          "output_type": "stream",
          "name": "stdout",
          "text": [
            "Integral using quad: 3.833333333333333\n",
            "Integral using trapezoidal rule: 3.833350338400843\n",
            "Integral using Simpson's rule: 3.8333333333333335\n"
          ]
        }
      ]
    },
    {
      "cell_type": "markdown",
      "source": [
        "# **3. Partial Derivatives**"
      ],
      "metadata": {
        "id": "El909E6HYgyt"
      }
    },
    {
      "cell_type": "code",
      "source": [
        "# Define the multivariable function\n",
        "def f(x, y):\n",
        "    return x**2 + y**2 + x*y\n",
        "\n",
        "# Partial derivative with respect to x\n",
        "def partial_derivative_x(f, x, y, h=1e-5):\n",
        "    return (f(x + h, y) - f(x, y)) / h\n",
        "\n",
        "# Partial derivative with respect to y\n",
        "def partial_derivative_y(f, x, y, h=1e-5):\n",
        "    return (f(x, y + h) - f(x, y)) / h\n",
        "\n",
        "# Calculate partial derivatives at (x, y) = (1, 1)\n",
        "partial_x = partial_derivative_x(f, 1, 1)\n",
        "partial_y = partial_derivative_y(f, 1, 1)\n",
        "\n",
        "print(\"Partial derivative with respect to x at (1, 1):\", partial_x)\n",
        "print(\"Partial derivative with respect to y at (1, 1):\", partial_y)\n"
      ],
      "metadata": {
        "colab": {
          "base_uri": "https://localhost:8080/"
        },
        "id": "CuO6ZHxNYhSw",
        "outputId": "5f619d9b-2fd3-447c-d28b-1a2505daf11c"
      },
      "execution_count": 22,
      "outputs": [
        {
          "output_type": "stream",
          "name": "stdout",
          "text": [
            "Partial derivative with respect to x at (1, 1): 3.0000100000204806\n",
            "Partial derivative with respect to y at (1, 1): 3.0000100000204806\n"
          ]
        }
      ]
    }
  ]
}