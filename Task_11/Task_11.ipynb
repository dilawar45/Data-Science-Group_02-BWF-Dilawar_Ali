{
  "nbformat": 4,
  "nbformat_minor": 0,
  "metadata": {
    "colab": {
      "provenance": []
    },
    "kernelspec": {
      "name": "python3",
      "display_name": "Python 3"
    },
    "language_info": {
      "name": "python"
    }
  },
  "cells": [
    {
      "cell_type": "code",
      "source": [
        "import numpy as np"
      ],
      "metadata": {
        "id": "mvZR1snoWQtV"
      },
      "execution_count": 1,
      "outputs": []
    },
    {
      "cell_type": "code",
      "execution_count": 4,
      "metadata": {
        "colab": {
          "base_uri": "https://localhost:8080/"
        },
        "collapsed": true,
        "id": "TJi55mq7VTxZ",
        "outputId": "68f16bfb-dd4d-4848-d7fc-2c8e7848ced0"
      },
      "outputs": [
        {
          "output_type": "stream",
          "name": "stdout",
          "text": [
            "[[19 13]\n",
            " [10  2]]\n"
          ]
        }
      ],
      "source": [
        "#Given a 2D array of shape (6, 6), extract a 2x2 sub-array starting from the element at position (1, 1)\n",
        "array_2D = np.random.randint(1, 20, (6, 6))\n",
        "sub_array_2x2 = array_2D[1:3, 1:3]\n",
        "print(sub_array_2x2)"
      ]
    },
    {
      "cell_type": "code",
      "source": [
        "# 2. From a 3D array of shape (3, 2, 1), extract all elements in the first two rows and all columns of the second slice along the third axis.\n",
        "array_3D = np.random.randint(1, 20, (3, 2, 1))\n",
        "extracted_elements = array_3D[:2, :, 0]\n",
        "print(extracted_elements)"
      ],
      "metadata": {
        "colab": {
          "base_uri": "https://localhost:8080/"
        },
        "collapsed": true,
        "id": "ddZJJYQ7W1ek",
        "outputId": "be92bf0b-6894-429b-8c21-ada486f683ba"
      },
      "execution_count": 5,
      "outputs": [
        {
          "output_type": "stream",
          "name": "stdout",
          "text": [
            "[[13  8]\n",
            " [16 17]]\n"
          ]
        }
      ]
    },
    {
      "cell_type": "code",
      "source": [
        "# 3. Given an array of integers, use fancy indexing to extract elements at positions [1, 3, 4, 6].\n",
        "array_integers = np.array([10, 20, 30, 40, 50, 60, 70, 80])\n",
        "fancy_indexed_elements = array_integers[[1, 3, 4, 6]]\n",
        "print(fancy_indexed_elements)"
      ],
      "metadata": {
        "colab": {
          "base_uri": "https://localhost:8080/"
        },
        "collapsed": true,
        "id": "DLQu8LT1XP87",
        "outputId": "f9b54612-721c-4190-c355-2f7b582fb433"
      },
      "execution_count": 6,
      "outputs": [
        {
          "output_type": "stream",
          "name": "stdout",
          "text": [
            "[20 40 50 70]\n"
          ]
        }
      ]
    },
    {
      "cell_type": "code",
      "source": [
        "# 4. Given a 2D array, use fancy indexing to select rows [0, 2, 2] and columns [1, 3].\n",
        "array_2D_example = np.random.randint(1, 20, (4, 5))\n",
        "fancy_indexed_subarray = array_2D_example[[0, 2, 2], :][:, [1, 3]]\n",
        "print(fancy_indexed_subarray)"
      ],
      "metadata": {
        "colab": {
          "base_uri": "https://localhost:8080/"
        },
        "collapsed": true,
        "id": "fGhMxX22Xspt",
        "outputId": "d63e00b9-c984-4cce-dcb1-10ca443d99eb"
      },
      "execution_count": 7,
      "outputs": [
        {
          "output_type": "stream",
          "name": "stdout",
          "text": [
            "[[10  5]\n",
            " [ 5  6]\n",
            " [ 5  6]]\n"
          ]
        }
      ]
    },
    {
      "cell_type": "code",
      "source": [
        "# 5. From a 1D array of random integers, extract all elements that are greater than 8.\n",
        "random_integers = np.random.randint(1, 15, 10)\n",
        "greater_than_8 = random_integers[random_integers > 8]\n",
        "print(greater_than_8)"
      ],
      "metadata": {
        "colab": {
          "base_uri": "https://localhost:8080/"
        },
        "collapsed": true,
        "id": "gWVhyFI4X12C",
        "outputId": "72d216fc-8f7b-45b3-c99b-fab0f33ce870"
      },
      "execution_count": 8,
      "outputs": [
        {
          "output_type": "stream",
          "name": "stdout",
          "text": [
            "[12 11 10]\n"
          ]
        }
      ]
    },
    {
      "cell_type": "code",
      "source": [
        "# 6. Given a 2D array of shape (6, 6), replace all elements greater than 13 with the value 0.\n",
        "array_2D_replace = np.random.randint(1, 20, (6, 6))\n",
        "array_2D_replace[array_2D_replace > 13] = 0\n",
        "print(array_2D_replace)"
      ],
      "metadata": {
        "colab": {
          "base_uri": "https://localhost:8080/"
        },
        "collapsed": true,
        "id": "lSHCJbpaX-mw",
        "outputId": "138bf85d-7e03-4a68-ab5b-c3d1fcc221ba"
      },
      "execution_count": 9,
      "outputs": [
        {
          "output_type": "stream",
          "name": "stdout",
          "text": [
            "[[ 3 10 12  0  0 13]\n",
            " [ 5 12  6 10  0  0]\n",
            " [ 0  6  9  0  8  5]\n",
            " [ 6  0  0  1  0  0]\n",
            " [ 6  0  7  0  0 11]\n",
            " [ 0  3  0 12  0  1]]\n"
          ]
        }
      ]
    },
    {
      "cell_type": "markdown",
      "source": [
        "**Broadcasting**"
      ],
      "metadata": {
        "id": "HLguiiN6YE31"
      }
    },
    {
      "cell_type": "code",
      "source": [
        "# 7. Add a 1D array of shape (3,) to each row of a 2D array of shape (4, 3).\n",
        "array_1D = np.array([1, 2, 3])\n",
        "array_2D_to_add = np.random.randint(1, 10, (4, 3))\n",
        "broadcasted_addition = array_2D_to_add + array_1D\n",
        "print(broadcasted_addition)"
      ],
      "metadata": {
        "colab": {
          "base_uri": "https://localhost:8080/"
        },
        "collapsed": true,
        "id": "qU-FSah6YCRl",
        "outputId": "59dc3396-36ca-4039-d6f8-c4cbe888ab78"
      },
      "execution_count": 10,
      "outputs": [
        {
          "output_type": "stream",
          "name": "stdout",
          "text": [
            "[[ 7  3  5]\n",
            " [ 3  8 11]\n",
            " [ 8 10  7]\n",
            " [ 6  3  6]]\n"
          ]
        }
      ]
    },
    {
      "cell_type": "code",
      "source": [
        "# 8. Multiply a 2D array of shape (3, 3) by a 1D array of shape (3,).\n",
        "array_2D_to_multiply = np.random.randint(1, 10, (3, 3))\n",
        "array_1D_multiply = np.array([2, 3, 4])\n",
        "broadcasted_multiplication = array_2D_to_multiply * array_1D_multiply\n",
        "print(broadcasted_multiplication)"
      ],
      "metadata": {
        "colab": {
          "base_uri": "https://localhost:8080/"
        },
        "collapsed": true,
        "id": "sDVTH0a6YXOt",
        "outputId": "d43533cb-e275-4aed-f311-e7f96803e6d9"
      },
      "execution_count": 11,
      "outputs": [
        {
          "output_type": "stream",
          "name": "stdout",
          "text": [
            "[[ 8 24 36]\n",
            " [ 2  6 20]\n",
            " [ 4 24 36]]\n"
          ]
        }
      ]
    },
    {
      "cell_type": "code",
      "source": [
        "# 9. Create two 2D arrays of shapes (3, 1) and (1, 4) respectively, and perform element-wise addition.\n",
        "array_2D_shape_3_1 = np.random.randint(1, 10, (3, 1))\n",
        "array_2D_shape_1_4 = np.random.randint(1, 10, (1, 4))\n",
        "elementwise_addition = array_2D_shape_3_1 + array_2D_shape_1_4\n",
        "print(elementwise_addition)"
      ],
      "metadata": {
        "colab": {
          "base_uri": "https://localhost:8080/"
        },
        "collapsed": true,
        "id": "eLUZrNCrYa0u",
        "outputId": "e7b9da7c-50e5-4212-8bf1-63b9dd8d0625"
      },
      "execution_count": 12,
      "outputs": [
        {
          "output_type": "stream",
          "name": "stdout",
          "text": [
            "[[10  8 13 10]\n",
            " [ 5  3  8  5]\n",
            " [ 4  2  7  4]]\n"
          ]
        }
      ]
    },
    {
      "cell_type": "code",
      "source": [
        "# 10. Given a 3D array of shape (2, 3, 4), add a 2D array of shape (3, 4) to each 2D slice along the first axis.\n",
        "array_3D_broadcast = np.random.randint(1, 10, (2, 3, 4))\n",
        "array_2D_broadcast = np.random.randint(1, 10, (3, 4))\n",
        "broadcasted_3d_addition = array_3D_broadcast + array_2D_broadcast\n",
        "print(broadcasted_3d_addition)"
      ],
      "metadata": {
        "colab": {
          "base_uri": "https://localhost:8080/"
        },
        "collapsed": true,
        "id": "K5BhDvmSYktW",
        "outputId": "89cf7207-67a0-49b8-d674-8a8670dd1ee9"
      },
      "execution_count": 13,
      "outputs": [
        {
          "output_type": "stream",
          "name": "stdout",
          "text": [
            "[[[13  7  8  9]\n",
            "  [15  7  5 12]\n",
            "  [11  7  6 15]]\n",
            "\n",
            " [[12  2  4 10]\n",
            "  [12  3  5 13]\n",
            "  [11  4  2  8]]]\n"
          ]
        }
      ]
    },
    {
      "cell_type": "markdown",
      "source": [
        "**Some More**"
      ],
      "metadata": {
        "id": "5CVLS7f4aK4V"
      }
    },
    {
      "cell_type": "code",
      "source": [
        "# 11. Given a 2D array, use slicing to extract every second row and every second column, then add a 1D array to each row of the sliced array.\n",
        "array_2D_more = np.random.randint(1, 10, (6, 6))\n",
        "sliced_array = array_2D_more[::2, ::2]\n",
        "array_1d_more = np.array([1, 2, 3])\n",
        "sliced_and_added = sliced_array + array_1d_more\n",
        "print(sliced_and_added)"
      ],
      "metadata": {
        "colab": {
          "base_uri": "https://localhost:8080/"
        },
        "id": "4gDSTdZqYodg",
        "outputId": "3728af21-d9a3-4004-bc4b-e7ffd5e77150"
      },
      "execution_count": 14,
      "outputs": [
        {
          "output_type": "stream",
          "name": "stdout",
          "text": [
            "[[ 5 10  9]\n",
            " [ 8  4  9]\n",
            " [ 7  6 11]]\n"
          ]
        }
      ]
    },
    {
      "cell_type": "code",
      "source": [
        "# 12. From a 3D array of shape (3, 2, 1), extract a sub-array using slicing and then use broadcasting to subtract a 2D array from each slice along the third axis.\n",
        "array_3D_more = np.random.randint(1, 10, (3, 2, 1))\n",
        "sub_array = array_3D_more[:, :, 0]\n",
        "array_2D_subtract = np.array([[1], [2]])\n",
        "broadcasted_subtraction_corrected = sub_array - array_2D_subtract.T\n",
        "print(broadcasted_subtraction_corrected)"
      ],
      "metadata": {
        "colab": {
          "base_uri": "https://localhost:8080/"
        },
        "id": "U7qOJNFnZWm2",
        "outputId": "cb65f4d4-7255-4e64-92eb-a1f91f2e61d7"
      },
      "execution_count": 16,
      "outputs": [
        {
          "output_type": "stream",
          "name": "stdout",
          "text": [
            "[[ 5  5]\n",
            " [ 1 -1]\n",
            " [ 5 -1]]\n"
          ]
        }
      ]
    },
    {
      "cell_type": "code",
      "source": [
        "# 13. Given a 2D array, extract the diagonal elements and create a 1D array.\n",
        "array_2D_diag = np.random.randint(1, 10, (5, 5))\n",
        "diagonal_elements = np.diag(array_2D_diag)\n",
        "print(diagonal_elements)"
      ],
      "metadata": {
        "colab": {
          "base_uri": "https://localhost:8080/"
        },
        "id": "IgziRCvwZaVc",
        "outputId": "add113da-0975-4dd5-f63d-29c790adafb1"
      },
      "execution_count": 15,
      "outputs": [
        {
          "output_type": "stream",
          "name": "stdout",
          "text": [
            "[6 6 9 3 1]\n"
          ]
        }
      ]
    },
    {
      "cell_type": "code",
      "source": [
        "# 14. Use slicing to reverse the order of elements in each row of a 2D array.\n",
        "array_2D_reverse = np.random.randint(1, 10, (4, 5))\n",
        "reversed_rows = array_2D_reverse[:, ::-1]\n",
        "print(reversed_rows)"
      ],
      "metadata": {
        "colab": {
          "base_uri": "https://localhost:8080/"
        },
        "id": "cGc0BTopZdiC",
        "outputId": "2fdde4a5-4034-4fd3-9137-c0b3ef5bb3f4"
      },
      "execution_count": 19,
      "outputs": [
        {
          "output_type": "stream",
          "name": "stdout",
          "text": [
            "[[3 3 2 3 7]\n",
            " [3 7 9 1 7]\n",
            " [8 9 9 6 6]\n",
            " [1 9 9 4 8]]\n"
          ]
        }
      ]
    },
    {
      "cell_type": "code",
      "source": [
        "# 15. Given a 3D array of shape (7, 6, 5), use slicing to extract a sub-array of shape (2, 3, 4) and then use broadcasting to add a 1D array of shape (4,) to each row along the third axis.\n",
        "array_3D_large = np.random.randint(1, 10, (7, 6, 5))\n",
        "sub_array_large = array_3D_large[1:3, 2:5, 1:5]\n",
        "array_1D_large = np.array([1, 2, 3, 4])\n",
        "broadcasted_large_addition = sub_array_large + array_1D_large\n",
        "print(broadcasted_large_addition)"
      ],
      "metadata": {
        "colab": {
          "base_uri": "https://localhost:8080/"
        },
        "id": "z3VBkmRMZkQD",
        "outputId": "90ce0f19-098b-43b4-ded1-6d85ed3906e4"
      },
      "execution_count": 16,
      "outputs": [
        {
          "output_type": "stream",
          "name": "stdout",
          "text": [
            "[[[10  3 10  5]\n",
            "  [ 6  3  5  5]\n",
            "  [ 7 11  5  6]]\n",
            "\n",
            " [[ 7  9  5 10]\n",
            "  [ 3  3 11 12]\n",
            "  [10  5  7 13]]]\n"
          ]
        }
      ]
    },
    {
      "cell_type": "code",
      "source": [
        "\n",
        "# 16. Create a 2D array and use both slicing and broadcasting to set the last column to the sum of the first two columns for each row.\n",
        "array_2D_set_column = np.random.randint(1, 10, (4, 5))\n",
        "array_2D_set_column[:, -1] = array_2D_set_column[:, 0] + array_2D_set_column[:, 1]\n",
        "print(array_2D_set_column)"
      ],
      "metadata": {
        "colab": {
          "base_uri": "https://localhost:8080/"
        },
        "id": "4uDlB4_HZyPs",
        "outputId": "b13be216-ce58-4c8e-8842-cffd156f4574"
      },
      "execution_count": 17,
      "outputs": [
        {
          "output_type": "stream",
          "name": "stdout",
          "text": [
            "[[ 4  1  4  3  5]\n",
            " [ 8  2  3  9 10]\n",
            " [ 6  7  1  1 13]\n",
            " [ 4  2  4  5  6]]\n"
          ]
        }
      ]
    }
  ]
}