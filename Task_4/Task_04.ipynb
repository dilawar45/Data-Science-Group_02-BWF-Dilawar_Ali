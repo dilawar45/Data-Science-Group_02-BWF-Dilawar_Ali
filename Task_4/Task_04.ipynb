{
  "nbformat": 4,
  "nbformat_minor": 0,
  "metadata": {
    "colab": {
      "provenance": []
    },
    "kernelspec": {
      "name": "python3",
      "display_name": "Python 3"
    },
    "language_info": {
      "name": "python"
    }
  },
  "cells": [
    {
      "cell_type": "code",
      "execution_count": 2,
      "metadata": {
        "id": "ZafMaQh5Bm7T"
      },
      "outputs": [],
      "source": [
        "def calculate():\n",
        "    try:\n",
        "\n",
        "        num1 = float(input(\"Enter the first number: \"))\n",
        "\n",
        "        num2 = float(input(\"Enter the second number: \"))\n",
        "\n",
        "        # calculations\n",
        "        sum_result = num1 + num2\n",
        "        diff_result = num1 - num2\n",
        "        prod_result = num1 * num2\n",
        "\n",
        "        # Handle division by zero\n",
        "        if num2 != 0:\n",
        "            quot_result = num1 / num2\n",
        "        else:\n",
        "            quot_result = 'undefined'\n",
        "\n",
        "        # Display results\n",
        "        print(f\"Sum: {sum_result}\")\n",
        "        print(f\"Difference: {diff_result}\")\n",
        "        print(f\"Product: {prod_result}\")\n",
        "        print(f\"Quotient: {quot_result}\")\n",
        "\n",
        "    except ValueError:\n",
        "        print(\"Invalid input. Please enter valid numbers.\")\n",
        "\n",
        "\n",
        "\n"
      ]
    },
    {
      "cell_type": "code",
      "source": [
        "calculate()"
      ],
      "metadata": {
        "colab": {
          "base_uri": "https://localhost:8080/"
        },
        "id": "9RONTjyWDcrt",
        "outputId": "68b0fab0-59fe-4cc7-b9d8-87ce39b2d0b9"
      },
      "execution_count": 3,
      "outputs": [
        {
          "output_type": "stream",
          "name": "stdout",
          "text": [
            "Enter the first number: 34\n",
            "Enter the second number: 12\n",
            "Sum: 46.0\n",
            "Difference: 22.0\n",
            "Product: 408.0\n",
            "Quotient: 2.8333333333333335\n"
          ]
        }
      ]
    }
  ]
}