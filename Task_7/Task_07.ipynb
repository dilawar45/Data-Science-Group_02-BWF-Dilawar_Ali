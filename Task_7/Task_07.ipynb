{
  "nbformat": 4,
  "nbformat_minor": 0,
  "metadata": {
    "colab": {
      "provenance": []
    },
    "kernelspec": {
      "name": "python3",
      "display_name": "Python 3"
    },
    "language_info": {
      "name": "python"
    }
  },
  "cells": [
    {
      "cell_type": "markdown",
      "source": [
        "**BOOK CLASS**"
      ],
      "metadata": {
        "id": "2VBgfSY3ZA6-"
      }
    },
    {
      "cell_type": "code",
      "execution_count": 1,
      "metadata": {
        "id": "IV3iwWlVYA45"
      },
      "outputs": [],
      "source": [
        "class Book:\n",
        "    def __init__(self, title, author, isbn):\n",
        "        self.title = title\n",
        "        self.author = author\n",
        "        self.isbn = isbn\n",
        "        self.status = 'available'\n",
        "\n",
        "    def display_info(self):\n",
        "        print(f'Title: {self.title}, Author: {self.author}, ISBN: {self.isbn}, Status: {self.status}')\n",
        "\n",
        "    def mark_as_borrowed(self):\n",
        "        self.status = 'borrowed'\n",
        "\n",
        "    def mark_as_returned(self):\n",
        "        self.status = 'available'\n"
      ]
    },
    {
      "cell_type": "markdown",
      "source": [
        "**MEMBER CLASS**"
      ],
      "metadata": {
        "id": "CnCfnt0hZQpp"
      }
    },
    {
      "cell_type": "code",
      "source": [
        "class Member:\n",
        "    def __init__(self, name, member_id):\n",
        "        self.name = name\n",
        "        self.member_id = member_id\n",
        "        self.borrowed_books = []\n",
        "\n",
        "    def borrow_book(self, book):\n",
        "        if book.status == 'available':\n",
        "            book.mark_as_borrowed()\n",
        "            self.borrowed_books.append(book)\n",
        "            print(f'{self.name} borrowed \"{book.title}\"')\n",
        "        else:\n",
        "            print(f'\"{book.title}\" is not available for borrowing.')\n",
        "\n",
        "    def return_book(self, book):\n",
        "        if book in self.borrowed_books:\n",
        "            book.mark_as_returned()\n",
        "            self.borrowed_books.remove(book)\n",
        "            print(f'{self.name} returned \"{book.title}\"')\n",
        "        else:\n",
        "            print(f'{self.name} does not have \"{book.title}\" borrowed.')\n",
        "\n",
        "    def display_info(self):\n",
        "        print(f'Name: {self.name}, Member ID: {self.member_id}, Borrowed Books: {[book.title for book in self.borrowed_books]}')\n"
      ],
      "metadata": {
        "id": "VcYiv_n9ZOwB"
      },
      "execution_count": 2,
      "outputs": []
    },
    {
      "cell_type": "markdown",
      "source": [
        "**LIBRARY CLASS**"
      ],
      "metadata": {
        "id": "zbuWKqXJZth7"
      }
    },
    {
      "cell_type": "code",
      "source": [
        "class Library:\n",
        "    def __init__(self):\n",
        "        self.books = []\n",
        "        self.members = []\n",
        "\n",
        "    def add_book(self, book):\n",
        "        self.books.append(book)\n",
        "        print(f'Added book: {book.title}')\n",
        "\n",
        "    def register_member(self, member):\n",
        "        self.members.append(member)\n",
        "        print(f'Registered member: {member.name}')\n",
        "\n",
        "    def issue_book(self, member_id, isbn):\n",
        "        member = next((m for m in self.members if m.member_id == member_id), None)\n",
        "        book = next((b for b in self.books if b.isbn == isbn), None)\n",
        "\n",
        "        if member and book:\n",
        "            member.borrow_book(book)\n",
        "        else:\n",
        "            print('Member or Book not found.')\n",
        "\n",
        "    def return_book(self, member_id, isbn):\n",
        "        member = next((m for m in self.members if m.member_id == member_id), None)\n",
        "        book = next((b for b in self.books if b.isbn == isbn), None)\n",
        "\n",
        "        if member and book:\n",
        "            member.return_book(book)\n",
        "        else:\n",
        "            print('Member or Book not found.')\n",
        "\n",
        "    def display_all_books(self):\n",
        "        for book in self.books:\n",
        "            book.display_info()\n",
        "\n",
        "    def display_all_members(self):\n",
        "        for member in self.members:\n",
        "            member.display_info()\n"
      ],
      "metadata": {
        "id": "RYijC-lpZvpG"
      },
      "execution_count": 3,
      "outputs": []
    },
    {
      "cell_type": "markdown",
      "source": [
        "**TESTING THE ABOVE SYSTEM**"
      ],
      "metadata": {
        "id": "SpbpEFjraLBP"
      }
    },
    {
      "cell_type": "code",
      "source": [
        "# Create a library\n",
        "library = Library()\n",
        "\n",
        "# Add books\n",
        "book1 = Book('The Great Gatsby', 'F. Scott Fitzgerald', '1234567890')\n",
        "book2 = Book('1984', 'George Orwell', '1234567891')\n",
        "library.add_book(book1)\n",
        "library.add_book(book2)"
      ],
      "metadata": {
        "colab": {
          "base_uri": "https://localhost:8080/"
        },
        "collapsed": true,
        "id": "CB-acKNRaMJX",
        "outputId": "80b2fba8-dd6e-48e0-d682-e987531c7195"
      },
      "execution_count": 5,
      "outputs": [
        {
          "output_type": "stream",
          "name": "stdout",
          "text": [
            "Added book: The Great Gatsby\n",
            "Added book: 1984\n"
          ]
        }
      ]
    },
    {
      "cell_type": "code",
      "source": [
        "# Register members\n",
        "member1 = Member('Alice', '001')\n",
        "member2 = Member('Bob', '002')\n",
        "library.register_member(member1)\n",
        "library.register_member(member2)"
      ],
      "metadata": {
        "colab": {
          "base_uri": "https://localhost:8080/"
        },
        "id": "hReS5_nzdAJx",
        "outputId": "335f177c-7014-4fed-ae94-b2bbc968ee4f"
      },
      "execution_count": 7,
      "outputs": [
        {
          "output_type": "stream",
          "name": "stdout",
          "text": [
            "Registered member: Alice\n",
            "Registered member: Bob\n"
          ]
        }
      ]
    },
    {
      "cell_type": "code",
      "source": [
        "# Display all books\n",
        "print(\"\\nAll Books:\")\n",
        "library.display_all_books()\n",
        "\n",
        "# Display all members\n",
        "print(\"\\nAll Members:\")\n",
        "library.display_all_members()"
      ],
      "metadata": {
        "colab": {
          "base_uri": "https://localhost:8080/"
        },
        "id": "3kaLr0AQdF2o",
        "outputId": "341b37b1-813b-4f06-958b-ed5fdaa7e85d"
      },
      "execution_count": 8,
      "outputs": [
        {
          "output_type": "stream",
          "name": "stdout",
          "text": [
            "\n",
            "All Books:\n",
            "Title: The Great Gatsby, Author: F. Scott Fitzgerald, ISBN: 1234567890, Status: available\n",
            "Title: 1984, Author: George Orwell, ISBN: 1234567891, Status: available\n",
            "\n",
            "All Members:\n",
            "Name: Alice, Member ID: 001, Borrowed Books: []\n",
            "Name: Bob, Member ID: 002, Borrowed Books: []\n"
          ]
        }
      ]
    },
    {
      "cell_type": "code",
      "source": [
        "# Borrow and return books\n",
        "library.issue_book('001', '1234567890')\n",
        "library.issue_book('002', '1234567891')\n",
        "library.issue_book('001', '1234567891')  # Trying to borrow a book that is already borrowed\n",
        "\n",
        "# Display all books after borrowing\n",
        "print(\"\\nAll Books after borrowing:\")\n",
        "library.display_all_books()\n"
      ],
      "metadata": {
        "colab": {
          "base_uri": "https://localhost:8080/"
        },
        "id": "p4VOKgv8dJ_f",
        "outputId": "22dbb265-d6b5-40b5-e63c-e53360f970b4"
      },
      "execution_count": 9,
      "outputs": [
        {
          "output_type": "stream",
          "name": "stdout",
          "text": [
            "Alice borrowed \"The Great Gatsby\"\n",
            "Bob borrowed \"1984\"\n",
            "\"1984\" is not available for borrowing.\n",
            "\n",
            "All Books after borrowing:\n",
            "Title: The Great Gatsby, Author: F. Scott Fitzgerald, ISBN: 1234567890, Status: borrowed\n",
            "Title: 1984, Author: George Orwell, ISBN: 1234567891, Status: borrowed\n"
          ]
        }
      ]
    },
    {
      "cell_type": "code",
      "source": [
        "# Return books\n",
        "library.return_book('001', '1234567890')\n",
        "library.return_book('002', '1234567891')\n",
        "\n",
        "# Display all books after returning\n",
        "print(\"\\nAll Books after returning:\")\n",
        "library.display_all_books()"
      ],
      "metadata": {
        "colab": {
          "base_uri": "https://localhost:8080/"
        },
        "id": "Y9pNknc8dMdj",
        "outputId": "04bc5a82-c710-40ae-e263-719c74893c78"
      },
      "execution_count": 10,
      "outputs": [
        {
          "output_type": "stream",
          "name": "stdout",
          "text": [
            "Alice returned \"The Great Gatsby\"\n",
            "Bob returned \"1984\"\n",
            "\n",
            "All Books after returning:\n",
            "Title: The Great Gatsby, Author: F. Scott Fitzgerald, ISBN: 1234567890, Status: available\n",
            "Title: 1984, Author: George Orwell, ISBN: 1234567891, Status: available\n"
          ]
        }
      ]
    }
  ]
}