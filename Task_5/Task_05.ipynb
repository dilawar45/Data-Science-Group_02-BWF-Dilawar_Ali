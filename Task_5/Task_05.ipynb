{
  "nbformat": 4,
  "nbformat_minor": 0,
  "metadata": {
    "colab": {
      "provenance": []
    },
    "kernelspec": {
      "name": "python3",
      "display_name": "Python 3"
    },
    "language_info": {
      "name": "python"
    }
  },
  "cells": [
    {
      "cell_type": "code",
      "source": [
        "num_rows = int(input(\"Enter the number of rows\"));\n",
        "k = 1\n",
        "for i in range(0, num_rows):\n",
        "    for j in range(0, k):\n",
        "        print(\"* \", end=\"\")\n",
        "    k = k + 1\n",
        "    print()"
      ],
      "metadata": {
        "colab": {
          "base_uri": "https://localhost:8080/"
        },
        "id": "NZ5qYfonEUbr",
        "outputId": "24a2b414-3e38-401f-86e6-46fbb8c9275c"
      },
      "execution_count": 5,
      "outputs": [
        {
          "output_type": "stream",
          "name": "stdout",
          "text": [
            "Enter the number of rows8\n",
            "* \n",
            "* * \n",
            "* * * \n",
            "* * * * \n",
            "* * * * * \n",
            "* * * * * * \n",
            "* * * * * * * \n",
            "* * * * * * * * \n"
          ]
        }
      ]
    },
    {
      "cell_type": "code",
      "source": [],
      "metadata": {
        "id": "t41v7r_OIy9g"
      },
      "execution_count": null,
      "outputs": []
    },
    {
      "cell_type": "code",
      "source": [
        "num_rows = int(input(\"Enter the number of rows\"));\n",
        "for i in range(0, num_rows):\n",
        "\tfor j in range(0, num_rows-i-1):\n",
        "\t\tprint(end=\" \")\n",
        "\tfor j in range(0, i+1):\n",
        "\t\tprint(\"*\", end=\" \")\n",
        "\tprint()"
      ],
      "metadata": {
        "colab": {
          "base_uri": "https://localhost:8080/"
        },
        "id": "-2AtuYR0EUWH",
        "outputId": "038c3cad-36d2-4a47-b86b-ba502b9b9729"
      },
      "execution_count": 10,
      "outputs": [
        {
          "output_type": "stream",
          "name": "stdout",
          "text": [
            "Enter the number of rows7\n",
            "      * \n",
            "     * * \n",
            "    * * * \n",
            "   * * * * \n",
            "  * * * * * \n",
            " * * * * * * \n",
            "* * * * * * * \n"
          ]
        }
      ]
    },
    {
      "cell_type": "code",
      "source": [
        "for i in range(num_rows,0,-1):\n",
        "    for j in range(0, num_rows-i):\n",
        "        print(end=\" \")\n",
        "    for j in range(0,i):\n",
        "        print(\"* \", end=\" \")\n",
        "    print()"
      ],
      "metadata": {
        "colab": {
          "base_uri": "https://localhost:8080/"
        },
        "id": "EswG9rNHEUeJ",
        "outputId": "a17c88d2-0cfb-4463-8b43-6e161a668ad8"
      },
      "execution_count": 6,
      "outputs": [
        {
          "output_type": "stream",
          "name": "stdout",
          "text": [
            "*  *  *  *  *  *  *  *  \n",
            " *  *  *  *  *  *  *  \n",
            "  *  *  *  *  *  *  \n",
            "   *  *  *  *  *  \n",
            "    *  *  *  *  \n",
            "     *  *  *  \n",
            "      *  *  \n",
            "       *  \n"
          ]
        }
      ]
    },
    {
      "cell_type": "code",
      "source": [
        "num_rows = int(input(\"Enter the number of rows: \"))\n",
        "k = 1\n",
        "num = 1\n",
        "\n",
        "for i in range(0, num_rows):\n",
        "    for j in range(0, k):\n",
        "        print(num, end=\" \")\n",
        "        num += 1\n",
        "    k = k + 1\n",
        "    print()\n"
      ],
      "metadata": {
        "colab": {
          "base_uri": "https://localhost:8080/"
        },
        "id": "cgq_zCgNEUh4",
        "outputId": "e0e3fb1e-da37-48a2-9bd9-4307944a1720"
      },
      "execution_count": 7,
      "outputs": [
        {
          "output_type": "stream",
          "name": "stdout",
          "text": [
            "Enter the number of rows: 10\n",
            "1 \n",
            "2 3 \n",
            "4 5 6 \n",
            "7 8 9 10 \n",
            "11 12 13 14 15 \n",
            "16 17 18 19 20 21 \n",
            "22 23 24 25 26 27 28 \n",
            "29 30 31 32 33 34 35 36 \n",
            "37 38 39 40 41 42 43 44 45 \n",
            "46 47 48 49 50 51 52 53 54 55 \n"
          ]
        }
      ]
    },
    {
      "cell_type": "code",
      "source": [
        "num_rows = int(input(\"Enter the number of rows: \"))\n",
        "\n",
        "for i in range(0, num_rows):\n",
        "    # Print leading spaces for center alignment\n",
        "    for j in range(num_rows - i - 1):\n",
        "        print(\" \", end=\"\")\n",
        "\n",
        "    # Print letters\n",
        "    for j in range(0, i + 1):\n",
        "        print(chr(65 + j), end=\" \")\n",
        "\n",
        "    # Move to the next line\n",
        "    print()\n"
      ],
      "metadata": {
        "colab": {
          "base_uri": "https://localhost:8080/"
        },
        "id": "HZHB4wJCIU2F",
        "outputId": "25939702-e6bf-470a-c919-7900614daedc"
      },
      "execution_count": 9,
      "outputs": [
        {
          "output_type": "stream",
          "name": "stdout",
          "text": [
            "Enter the number of rows: 7\n",
            "      A \n",
            "     A B \n",
            "    A B C \n",
            "   A B C D \n",
            "  A B C D E \n",
            " A B C D E F \n",
            "A B C D E F G \n"
          ]
        }
      ]
    }
  ]
}