{
  "nbformat": 4,
  "nbformat_minor": 0,
  "metadata": {
    "colab": {
      "provenance": []
    },
    "kernelspec": {
      "name": "python3",
      "display_name": "Python 3"
    },
    "language_info": {
      "name": "python"
    }
  },
  "cells": [
    {
      "cell_type": "code",
      "execution_count": 2,
      "metadata": {
        "id": "zjQ0d4h0eHwQ"
      },
      "outputs": [],
      "source": [
        "# Define data structures\n",
        "products = {}\n",
        "product_order = []\n",
        "categories = set()"
      ]
    },
    {
      "cell_type": "code",
      "source": [
        "# Add a product\n",
        "def add_product(product_id, name, category, stock):\n",
        "    if product_id in products:\n",
        "        print(f\"Product ID {product_id} already exists.\")\n",
        "        return\n",
        "\n",
        "    products[product_id] = {\n",
        "        'info': (name, category),  # Tuple to store product name and category\n",
        "        'stock': stock\n",
        "    }\n",
        "    product_order.append(product_id)\n",
        "    categories.add(category)\n",
        "    print(f\"Added product {name} with ID {product_id}\")"
      ],
      "metadata": {
        "id": "rrz31I9NflR3"
      },
      "execution_count": 3,
      "outputs": []
    },
    {
      "cell_type": "code",
      "source": [
        "# Update stock\n",
        "def update_stock(product_id, quantity):\n",
        "    if product_id in products:\n",
        "        products[product_id]['stock'] += quantity\n",
        "        print(f\"Updated stock for {product_id}. New stock: {products[product_id]['stock']}\")\n",
        "    else:\n",
        "        print(f\"Product ID {product_id} not found.\")\n"
      ],
      "metadata": {
        "id": "beyEadIxfv8l"
      },
      "execution_count": 4,
      "outputs": []
    },
    {
      "cell_type": "code",
      "source": [
        "# Display all products\n",
        "def display_products():\n",
        "    for product_id in product_order:\n",
        "        info, stock = products[product_id]['info'], products[product_id]['stock']\n",
        "        print(f\"ID: {product_id}, Name: {info[0]}, Category: {info[1]}, Stock: {stock}\")"
      ],
      "metadata": {
        "id": "yUVO1HsBf4V4"
      },
      "execution_count": 5,
      "outputs": []
    },
    {
      "cell_type": "code",
      "source": [
        "# Display products by category\n",
        "def display_by_category(category):\n",
        "    found = False\n",
        "    for product_id in product_order:\n",
        "        info, stock = products[product_id]['info'], products[product_id]['stock']\n",
        "        if info[1] == category:\n",
        "            print(f\"ID: {product_id}, Name: {info[0]}, Category: {info[1]}, Stock: {stock}\")\n",
        "            found = True\n",
        "    if not found:\n",
        "        print(f\"No products found in category {category}\")"
      ],
      "metadata": {
        "id": "eCeBxZe6f7Ss"
      },
      "execution_count": 6,
      "outputs": []
    },
    {
      "cell_type": "code",
      "source": [
        "# Add multiple products\n",
        "add_product('ID001', 'Product1', 'Category1', 50)\n",
        "add_product('ID002', 'Product2', 'Category2', 30)\n",
        "add_product('ID003', 'Product3', 'Category1', 20)\n",
        "add_product('ID004', 'Product4', 'Category3', 40)\n",
        "\n",
        "# Attempt to add a product with an existing ID\n",
        "add_product('ID001', 'Product5', 'Category4', 60)"
      ],
      "metadata": {
        "colab": {
          "base_uri": "https://localhost:8080/"
        },
        "id": "HAsl7m7Lf96p",
        "outputId": "b18fd3fd-68cb-46c3-a084-6d691d92d0fe"
      },
      "execution_count": 7,
      "outputs": [
        {
          "output_type": "stream",
          "name": "stdout",
          "text": [
            "Added product Product1 with ID ID001\n",
            "Added product Product2 with ID ID002\n",
            "Added product Product3 with ID ID003\n",
            "Added product Product4 with ID ID004\n",
            "Product ID ID001 already exists.\n"
          ]
        }
      ]
    },
    {
      "cell_type": "code",
      "source": [
        "# Update stock levels\n",
        "update_stock('ID001', 10)\n",
        "update_stock('ID005', 20)  # Attempt to update a non-existent product"
      ],
      "metadata": {
        "colab": {
          "base_uri": "https://localhost:8080/"
        },
        "id": "OJmzlfCwgHdE",
        "outputId": "35f7f9b8-6a84-4593-9e41-55cf1b2701a2"
      },
      "execution_count": 8,
      "outputs": [
        {
          "output_type": "stream",
          "name": "stdout",
          "text": [
            "Updated stock for ID001. New stock: 60\n",
            "Product ID ID005 not found.\n"
          ]
        }
      ]
    },
    {
      "cell_type": "code",
      "source": [
        "print(\"\\nAll Products:\")\n",
        "display_products()"
      ],
      "metadata": {
        "colab": {
          "base_uri": "https://localhost:8080/"
        },
        "id": "uhqDTJrtgL8l",
        "outputId": "f2881fe0-b047-49ab-8bc9-fbcbb9a6d53c"
      },
      "execution_count": 9,
      "outputs": [
        {
          "output_type": "stream",
          "name": "stdout",
          "text": [
            "\n",
            "All Products:\n",
            "ID: ID001, Name: Product1, Category: Category1, Stock: 60\n",
            "ID: ID002, Name: Product2, Category: Category2, Stock: 30\n",
            "ID: ID003, Name: Product3, Category: Category1, Stock: 20\n",
            "ID: ID004, Name: Product4, Category: Category3, Stock: 40\n"
          ]
        }
      ]
    },
    {
      "cell_type": "code",
      "source": [
        "# Display products by category\n",
        "print(\"\\nProducts in Category1:\")\n",
        "display_by_category('Category1')\n",
        "\n",
        "print(\"\\nProducts in Category2:\")\n",
        "display_by_category('Category2')\n",
        "\n",
        "print(\"\\nProducts in Category4 (Non-existent):\")\n",
        "display_by_category('Category4')"
      ],
      "metadata": {
        "colab": {
          "base_uri": "https://localhost:8080/"
        },
        "id": "y3sKh8q0gPep",
        "outputId": "e15831b2-6e49-4531-b0b4-908595f0bee3"
      },
      "execution_count": 10,
      "outputs": [
        {
          "output_type": "stream",
          "name": "stdout",
          "text": [
            "\n",
            "Products in Category1:\n",
            "ID: ID001, Name: Product1, Category: Category1, Stock: 60\n",
            "ID: ID003, Name: Product3, Category: Category1, Stock: 20\n",
            "\n",
            "Products in Category2:\n",
            "ID: ID002, Name: Product2, Category: Category2, Stock: 30\n",
            "\n",
            "Products in Category4 (Non-existent):\n",
            "No products found in category Category4\n"
          ]
        }
      ]
    },
    {
      "cell_type": "code",
      "source": [],
      "metadata": {
        "id": "fEHjYDvthWfT"
      },
      "execution_count": null,
      "outputs": []
    }
  ]
}