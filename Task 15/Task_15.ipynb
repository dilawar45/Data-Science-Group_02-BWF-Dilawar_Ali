{
  "nbformat": 4,
  "nbformat_minor": 0,
  "metadata": {
    "colab": {
      "provenance": []
    },
    "kernelspec": {
      "name": "python3",
      "display_name": "Python 3"
    },
    "language_info": {
      "name": "python"
    }
  },
  "cells": [
    {
      "cell_type": "markdown",
      "source": [
        "# **Task 15: Data Wrangling: Join, Combine, and Reshape.**"
      ],
      "metadata": {
        "id": "VYYdeiltykAD"
      }
    },
    {
      "cell_type": "code",
      "source": [
        "import pandas as pd"
      ],
      "metadata": {
        "id": "UwlxhryvstbY"
      },
      "execution_count": 1,
      "outputs": []
    },
    {
      "cell_type": "markdown",
      "source": [
        "### **Q.1 Merge two DataFrames on a single key**"
      ],
      "metadata": {
        "id": "tYcBAT7xtOJ4"
      }
    },
    {
      "cell_type": "code",
      "execution_count": 3,
      "metadata": {
        "colab": {
          "base_uri": "https://localhost:8080/"
        },
        "id": "dWz8a0OisiJc",
        "outputId": "e682bb05-a608-481b-84c7-a4e2e548c88b"
      },
      "outputs": [
        {
          "output_type": "stream",
          "name": "stdout",
          "text": [
            "  key  value1  value2\n",
            "0   B       2       5\n",
            "1   D       4       6\n"
          ]
        }
      ],
      "source": [
        "# Create two DataFrames\n",
        "df1 = pd.DataFrame({'key': ['A', 'B', 'C', 'D'],\n",
        "                    'value1': [1, 2, 3, 4]})\n",
        "\n",
        "df2 = pd.DataFrame({'key': ['B', 'D', 'E', 'F'],\n",
        "                    'value2': [5, 6, 7, 8]})\n",
        "\n",
        "# Merge on a single key\n",
        "merged_df = pd.merge(df1, df2, on='key')\n",
        "print(merged_df)\n"
      ]
    },
    {
      "cell_type": "markdown",
      "source": [
        "**Q.2 # Merge two DataFrames on multiple keys.**"
      ],
      "metadata": {
        "id": "0mqCb91PuIRl"
      }
    },
    {
      "cell_type": "code",
      "source": [
        "# Create two DataFrames with multiple keys\n",
        "df1 = pd.DataFrame({'key1': ['A', 'B', 'C', 'D'],\n",
        "                    'key2': ['K', 'L', 'M', 'N'],\n",
        "                    'value1': [1, 2, 3, 4]})\n",
        "\n",
        "df2 = pd.DataFrame({'key1': ['B', 'D', 'C', 'A'],\n",
        "                    'key2': ['L', 'N', 'M', 'O'],\n",
        "                    'value2': [5, 6, 7, 8]})\n",
        "\n",
        "# Merge on multiple keys\n",
        "merged_df = pd.merge(df1, df2, on=['key1', 'key2'])\n",
        "print(merged_df)\n"
      ],
      "metadata": {
        "colab": {
          "base_uri": "https://localhost:8080/"
        },
        "id": "ePxYhpQ_tmZ-",
        "outputId": "eb0339c0-9e5b-4330-c9a9-b3347f2a0a1e"
      },
      "execution_count": 6,
      "outputs": [
        {
          "output_type": "stream",
          "name": "stdout",
          "text": [
            "  key1 key2  value1  value2\n",
            "0    B    L       2       5\n",
            "1    C    M       3       7\n",
            "2    D    N       4       6\n"
          ]
        }
      ]
    },
    {
      "cell_type": "markdown",
      "source": [
        "**Q.3 Perform an outer join, inner join, left join, and right join.**"
      ],
      "metadata": {
        "id": "iq1pzH39uN1X"
      }
    },
    {
      "cell_type": "code",
      "source": [
        "outer_merged_df = pd.merge(df1, df2, on=['key1', 'key2'], how='outer')\n",
        "print(outer_merged_df)\n"
      ],
      "metadata": {
        "colab": {
          "base_uri": "https://localhost:8080/"
        },
        "id": "MWCd5B28u14A",
        "outputId": "d5e742d3-c5eb-47cb-c967-a77a0726fbbc"
      },
      "execution_count": 12,
      "outputs": [
        {
          "output_type": "stream",
          "name": "stdout",
          "text": [
            "  key1 key2  value1  value2\n",
            "0    A    K     1.0     NaN\n",
            "1    B    L     2.0     5.0\n",
            "2    C    M     3.0     7.0\n",
            "3    D    N     4.0     6.0\n",
            "4    A    O     NaN     8.0\n"
          ]
        }
      ]
    },
    {
      "cell_type": "code",
      "source": [
        "inner_merged_df = pd.merge(df1, df2, on=['key1', 'key2'], how='inner')\n",
        "print(inner_merged_df)\n"
      ],
      "metadata": {
        "colab": {
          "base_uri": "https://localhost:8080/"
        },
        "id": "0YOfoW0ntomU",
        "outputId": "67bafef9-58cb-4079-8dd2-65c880756938"
      },
      "execution_count": 13,
      "outputs": [
        {
          "output_type": "stream",
          "name": "stdout",
          "text": [
            "  key1 key2  value1  value2\n",
            "0    B    L       2       5\n",
            "1    C    M       3       7\n",
            "2    D    N       4       6\n"
          ]
        }
      ]
    },
    {
      "cell_type": "code",
      "source": [
        "left_merged_df = pd.merge(df1, df2, on=['key1', 'key2'], how='left')\n",
        "print(left_merged_df)\n"
      ],
      "metadata": {
        "colab": {
          "base_uri": "https://localhost:8080/"
        },
        "id": "3f1Q1MR3u-Er",
        "outputId": "91762968-c7c5-4003-abef-69539099bcb2"
      },
      "execution_count": 14,
      "outputs": [
        {
          "output_type": "stream",
          "name": "stdout",
          "text": [
            "  key1 key2  value1  value2\n",
            "0    A    K       1     NaN\n",
            "1    B    L       2     5.0\n",
            "2    C    M       3     7.0\n",
            "3    D    N       4     6.0\n"
          ]
        }
      ]
    },
    {
      "cell_type": "code",
      "source": [
        "right_merged_df = pd.merge(df1, df2, on=['key1', 'key2'], how='right')\n",
        "print(right_merged_df)\n"
      ],
      "metadata": {
        "colab": {
          "base_uri": "https://localhost:8080/"
        },
        "id": "GSig_3ttvBJQ",
        "outputId": "bf3119c9-278b-43b8-acba-bb34cbe098fa"
      },
      "execution_count": 15,
      "outputs": [
        {
          "output_type": "stream",
          "name": "stdout",
          "text": [
            "  key1 key2  value1  value2\n",
            "0    B    L     2.0       5\n",
            "1    D    N     4.0       6\n",
            "2    C    M     3.0       7\n",
            "3    A    O     NaN       8\n"
          ]
        }
      ]
    },
    {
      "cell_type": "markdown",
      "source": [
        "**Q.4 Concatenate two DataFrames along rows.**"
      ],
      "metadata": {
        "id": "-cvpKt9yva1E"
      }
    },
    {
      "cell_type": "code",
      "source": [
        "df3 = pd.DataFrame({'key': ['G', 'H', 'I', 'J'],\n",
        "                    'value': [9, 10, 11, 12]})\n",
        "# Concatenate along rows\n",
        "concat_df_rows = pd.concat([df1, df3], axis=0)\n",
        "print(concat_df_rows)"
      ],
      "metadata": {
        "colab": {
          "base_uri": "https://localhost:8080/"
        },
        "id": "hXo6EUGDv0kQ",
        "outputId": "05df8836-8a06-4dbc-fe79-c484d3344cf4"
      },
      "execution_count": 16,
      "outputs": [
        {
          "output_type": "stream",
          "name": "stdout",
          "text": [
            "  key1 key2  value1  key  value\n",
            "0    A    K     1.0  NaN    NaN\n",
            "1    B    L     2.0  NaN    NaN\n",
            "2    C    M     3.0  NaN    NaN\n",
            "3    D    N     4.0  NaN    NaN\n",
            "0  NaN  NaN     NaN    G    9.0\n",
            "1  NaN  NaN     NaN    H   10.0\n",
            "2  NaN  NaN     NaN    I   11.0\n",
            "3  NaN  NaN     NaN    J   12.0\n"
          ]
        }
      ]
    },
    {
      "cell_type": "markdown",
      "source": [
        "**Q.5 Concatenate two DataFrames along columns**"
      ],
      "metadata": {
        "id": "2lgY9nwjwJ45"
      }
    },
    {
      "cell_type": "code",
      "source": [
        "df4 = pd.DataFrame({'value3': [13, 14, 15, 16]})\n",
        "\n",
        "# Concatenate along columns\n",
        "concat_df_cols = pd.concat([df1, df4], axis=1)\n",
        "print(concat_df_cols)"
      ],
      "metadata": {
        "colab": {
          "base_uri": "https://localhost:8080/"
        },
        "id": "EzbQ_7JBwSXW",
        "outputId": "bccc1b9d-68d7-48ee-97e5-41650a21c5ce"
      },
      "execution_count": 17,
      "outputs": [
        {
          "output_type": "stream",
          "name": "stdout",
          "text": [
            "  key1 key2  value1  value3\n",
            "0    A    K       1      13\n",
            "1    B    L       2      14\n",
            "2    C    M       3      15\n",
            "3    D    N       4      16\n"
          ]
        }
      ]
    },
    {
      "cell_type": "markdown",
      "source": [
        "**Q.6 Concatenate a list of DataFrames**"
      ],
      "metadata": {
        "id": "88-Ent5WwX5P"
      }
    },
    {
      "cell_type": "code",
      "source": [
        "dfs = [df1, df3, df4]\n",
        "# Concatenate list of DataFrames\n",
        "concat_list_df = pd.concat(dfs, axis=0, ignore_index=True)\n",
        "print(concat_list_df)"
      ],
      "metadata": {
        "colab": {
          "base_uri": "https://localhost:8080/"
        },
        "id": "uiaptfFawXQD",
        "outputId": "2ab5e4ad-b855-4a4f-b3cd-ad93ea628d4b"
      },
      "execution_count": 18,
      "outputs": [
        {
          "output_type": "stream",
          "name": "stdout",
          "text": [
            "   key1 key2  value1  key  value  value3\n",
            "0     A    K     1.0  NaN    NaN     NaN\n",
            "1     B    L     2.0  NaN    NaN     NaN\n",
            "2     C    M     3.0  NaN    NaN     NaN\n",
            "3     D    N     4.0  NaN    NaN     NaN\n",
            "4   NaN  NaN     NaN    G    9.0     NaN\n",
            "5   NaN  NaN     NaN    H   10.0     NaN\n",
            "6   NaN  NaN     NaN    I   11.0     NaN\n",
            "7   NaN  NaN     NaN    J   12.0     NaN\n",
            "8   NaN  NaN     NaN  NaN    NaN    13.0\n",
            "9   NaN  NaN     NaN  NaN    NaN    14.0\n",
            "10  NaN  NaN     NaN  NaN    NaN    15.0\n",
            "11  NaN  NaN     NaN  NaN    NaN    16.0\n"
          ]
        }
      ]
    },
    {
      "cell_type": "markdown",
      "source": [
        "**Q.7 Reshape data using the melt function to go from wide to long format**"
      ],
      "metadata": {
        "id": "8vMMnQ5Iwpp_"
      }
    },
    {
      "cell_type": "code",
      "source": [
        "# Create a wide DataFrame\n",
        "df_wide = pd.DataFrame({\n",
        "    'id': [1, 2, 3],\n",
        "    'A': [10, 20, 30],\n",
        "    'B': [40, 50, 60]\n",
        "})\n",
        "# Melt the DataFrame\n",
        "df_long = pd.melt(df_wide, id_vars=['id'], value_vars=['A', 'B'],\n",
        "                  var_name='variable', value_name='value')\n",
        "print(df_long)"
      ],
      "metadata": {
        "colab": {
          "base_uri": "https://localhost:8080/"
        },
        "id": "RTDFURY3xEyh",
        "outputId": "1d74c12c-01a1-486b-fdc5-a1f5671421a0"
      },
      "execution_count": 21,
      "outputs": [
        {
          "output_type": "stream",
          "name": "stdout",
          "text": [
            "   id variable  value\n",
            "0   1        A     10\n",
            "1   2        A     20\n",
            "2   3        A     30\n",
            "3   1        B     40\n",
            "4   2        B     50\n",
            "5   3        B     60\n"
          ]
        }
      ]
    },
    {
      "cell_type": "markdown",
      "source": [
        "**Q.8 Create a pivot table to summarize data**"
      ],
      "metadata": {
        "id": "MKCSLEUWxinb"
      }
    },
    {
      "cell_type": "code",
      "source": [
        "# Create a DataFrame\n",
        "df = pd.DataFrame({\n",
        "    'category': ['A', 'B', 'A', 'B'],\n",
        "    'values': [10, 20, 30, 40]\n",
        "})\n",
        "# Create a pivot table\n",
        "pivot_df = pd.pivot_table(df, values='values', index='category',\n",
        "                          aggfunc='sum')\n",
        "print(pivot_df)\n"
      ],
      "metadata": {
        "colab": {
          "base_uri": "https://localhost:8080/"
        },
        "id": "uet3UwHOxpv3",
        "outputId": "db5ef0cb-55ff-43e4-fa2c-3f58196a6a7f"
      },
      "execution_count": 22,
      "outputs": [
        {
          "output_type": "stream",
          "name": "stdout",
          "text": [
            "          values\n",
            "category        \n",
            "A             40\n",
            "B             60\n"
          ]
        }
      ]
    },
    {
      "cell_type": "markdown",
      "source": [
        "**Q.9 Group data by one or more columns and perform aggregation functions (e.g., sum, mean, count)**"
      ],
      "metadata": {
        "id": "PNZfEWqQwqPM"
      }
    },
    {
      "cell_type": "code",
      "source": [
        "# Create a DataFrame\n",
        "df = pd.DataFrame({\n",
        "    'category': ['A', 'B', 'A', 'B', 'C'],\n",
        "    'values': [10, 20, 30, 40, 50]\n",
        "})\n",
        "# Group by category and calculate the sum\n",
        "grouped_sum = df.groupby('category').sum()\n",
        "print(grouped_sum)\n",
        "\n",
        "# Group by category and calculate the mean\n",
        "grouped_mean = df.groupby('category').mean()\n",
        "print(grouped_mean)\n",
        "\n",
        "# Group by category and count the number of occurrences\n",
        "grouped_count = df.groupby('category').count()\n",
        "print(grouped_count)\n"
      ],
      "metadata": {
        "colab": {
          "base_uri": "https://localhost:8080/"
        },
        "id": "cqrvjgNzx6Qs",
        "outputId": "2bdf671e-d38f-438a-8c43-04eb2b2b96ea"
      },
      "execution_count": 23,
      "outputs": [
        {
          "output_type": "stream",
          "name": "stdout",
          "text": [
            "          values\n",
            "category        \n",
            "A             40\n",
            "B             60\n",
            "C             50\n",
            "          values\n",
            "category        \n",
            "A           20.0\n",
            "B           30.0\n",
            "C           50.0\n",
            "          values\n",
            "category        \n",
            "A              2\n",
            "B              2\n",
            "C              1\n"
          ]
        }
      ]
    },
    {
      "cell_type": "markdown",
      "source": [
        "**Q.10 Apply multiple aggregation functions to grouped data**"
      ],
      "metadata": {
        "id": "W11FMnXSyFx6"
      }
    },
    {
      "cell_type": "code",
      "source": [
        "# Group by category and apply multiple aggregation functions\n",
        "grouped_agg = df.groupby('category').agg(['sum', 'mean', 'count'])\n",
        "print(grouped_agg)\n"
      ],
      "metadata": {
        "colab": {
          "base_uri": "https://localhost:8080/"
        },
        "id": "ycHipqV-yMV9",
        "outputId": "08b28d62-5267-4ed8-b850-3df84dfabde1"
      },
      "execution_count": 24,
      "outputs": [
        {
          "output_type": "stream",
          "name": "stdout",
          "text": [
            "         values            \n",
            "            sum  mean count\n",
            "category                   \n",
            "A            40  20.0     2\n",
            "B            60  30.0     2\n",
            "C            50  50.0     1\n"
          ]
        }
      ]
    },
    {
      "cell_type": "markdown",
      "source": [
        "**Q.11 Use the groupby function to group data and apply custom functions**"
      ],
      "metadata": {
        "id": "gzmU4GmzyPzt"
      }
    },
    {
      "cell_type": "code",
      "source": [
        "# Define a custom function\n",
        "def custom_function(x):\n",
        "    return x.max() - x.min()\n",
        "\n",
        "# Group by category and apply the custom function\n",
        "grouped_custom = df.groupby('category')['values'].apply(custom_function)\n",
        "print(grouped_custom)\n"
      ],
      "metadata": {
        "colab": {
          "base_uri": "https://localhost:8080/"
        },
        "id": "iXCabD4uyQS4",
        "outputId": "621e646a-0d0e-4683-bac1-8ca5a4e25e7c"
      },
      "execution_count": 25,
      "outputs": [
        {
          "output_type": "stream",
          "name": "stdout",
          "text": [
            "category\n",
            "A    20\n",
            "B    20\n",
            "C     0\n",
            "Name: values, dtype: int64\n"
          ]
        }
      ]
    }
  ]
}