{
  "nbformat": 4,
  "nbformat_minor": 0,
  "metadata": {
    "colab": {
      "provenance": []
    },
    "kernelspec": {
      "name": "python3",
      "display_name": "Python 3"
    },
    "language_info": {
      "name": "python"
    }
  },
  "cells": [
    {
      "cell_type": "markdown",
      "source": [
        "## **TASK_20**"
      ],
      "metadata": {
        "id": "bEPG-gtPSj39"
      }
    },
    {
      "cell_type": "code",
      "execution_count": 2,
      "metadata": {
        "id": "KGMqo0k_KI14"
      },
      "outputs": [],
      "source": [
        "import seaborn as sns\n",
        "import matplotlib.pyplot as plt\n",
        "from sklearn.feature_selection import mutual_info_classif, SelectKBest\n",
        "import pandas as pd"
      ]
    },
    {
      "cell_type": "code",
      "source": [
        "#Using Built In Iris dataset\n",
        "iris= sns.load_dataset('iris')\n",
        "print(iris.head())"
      ],
      "metadata": {
        "colab": {
          "base_uri": "https://localhost:8080/"
        },
        "id": "d4fwEhNBKVzj",
        "outputId": "f52c98c2-b9ff-4f54-fbde-c91704945b21"
      },
      "execution_count": 4,
      "outputs": [
        {
          "output_type": "stream",
          "name": "stdout",
          "text": [
            "   sepal_length  sepal_width  petal_length  petal_width species\n",
            "0           5.1          3.5           1.4          0.2  setosa\n",
            "1           4.9          3.0           1.4          0.2  setosa\n",
            "2           4.7          3.2           1.3          0.2  setosa\n",
            "3           4.6          3.1           1.5          0.2  setosa\n",
            "4           5.0          3.6           1.4          0.2  setosa\n"
          ]
        }
      ]
    },
    {
      "cell_type": "markdown",
      "source": [
        "# **1. Feature Selection**"
      ],
      "metadata": {
        "id": "luEZPjbYRxjr"
      }
    },
    {
      "cell_type": "code",
      "source": [
        "# Separate features (X) and target (y)\n",
        "X = iris.drop(columns=['species'])\n",
        "y = iris['species']"
      ],
      "metadata": {
        "id": "yoL5SGe-LPDL"
      },
      "execution_count": 5,
      "outputs": []
    },
    {
      "cell_type": "code",
      "source": [
        "# Use mutual information to evaluate the importance of features\n",
        "mutual_info = mutual_info_classif(X, y)\n",
        "mutual_info_series = pd.Series(mutual_info, index=X.columns)\n",
        "mutual_info_series = mutual_info_series.sort_values(ascending=False)"
      ],
      "metadata": {
        "id": "WT5rfSHlLb7P"
      },
      "execution_count": 6,
      "outputs": []
    },
    {
      "cell_type": "code",
      "source": [
        "# Plot the mutual information scores\n",
        "plt.figure(figsize=(8, 5))\n",
        "sns.barplot(x=mutual_info_series.index, y=mutual_info_series.values)\n",
        "plt.title('Mutual Information Scores')\n",
        "plt.show()"
      ],
      "metadata": {
        "colab": {
          "base_uri": "https://localhost:8080/",
          "height": 487
        },
        "id": "7f8u6eQdLf3G",
        "outputId": "a8566fa5-612f-4683-98be-81cbac6f8671"
      },
      "execution_count": 7,
      "outputs": [
        {
          "output_type": "display_data",
          "data": {
            "text/plain": [
              "<Figure size 800x500 with 1 Axes>"
            ],
            "image/png": "[encoded data removed]"
          },
          "metadata": {}
        }
      ]
    },
    {
      "cell_type": "code",
      "source": [
        "# Select the top 2 features based on mutual information\n",
        "selector = SelectKBest(mutual_info_classif, k=2)\n",
        "X_selected = selector.fit_transform(X, y)"
      ],
      "metadata": {
        "id": "PaM8ezUjLi25"
      },
      "execution_count": 8,
      "outputs": []
    },
    {
      "cell_type": "code",
      "source": [
        "# Document the selected features\n",
        "selected_features = X.columns[selector.get_support()]\n",
        "print(\"Selected features based on mutual information:\", selected_features)"
      ],
      "metadata": {
        "colab": {
          "base_uri": "https://localhost:8080/"
        },
        "id": "7Y3aYA9WLsJf",
        "outputId": "6afc45b4-cf0e-48f0-b502-42bb479e8a38"
      },
      "execution_count": 9,
      "outputs": [
        {
          "output_type": "stream",
          "name": "stdout",
          "text": [
            "Selected features based on mutual information: Index(['petal_length', 'petal_width'], dtype='object')\n"
          ]
        }
      ]
    },
    {
      "cell_type": "markdown",
      "source": [
        "**The features 'petal_length' and 'petal_width' were chosen because they have the highest mutual information scores with the target variable 'species'**"
      ],
      "metadata": {
        "id": "en2qnY9rMdP0"
      }
    },
    {
      "cell_type": "markdown",
      "source": [
        "# **2. Feature Transformation**"
      ],
      "metadata": {
        "id": "Y8Sm91O-M8qd"
      }
    },
    {
      "cell_type": "code",
      "source": [
        "from sklearn.preprocessing import StandardScaler, MinMaxScaler\n",
        "import numpy as np"
      ],
      "metadata": {
        "id": "4yCh2mHJMhhp"
      },
      "execution_count": 10,
      "outputs": []
    },
    {
      "cell_type": "code",
      "source": [
        "# Standardize the features\n",
        "scaler = StandardScaler()\n",
        "X_scaled = scaler.fit_transform(X)"
      ],
      "metadata": {
        "id": "l-ezAejKNPb1"
      },
      "execution_count": 11,
      "outputs": []
    },
    {
      "cell_type": "code",
      "source": [
        "#Normalize the feature\n",
        "min_max_scaler = MinMaxScaler()\n",
        "X_normalized = min_max_scaler.fit_transform(X)"
      ],
      "metadata": {
        "id": "luml9JrMNWHi"
      },
      "execution_count": 12,
      "outputs": []
    },
    {
      "cell_type": "code",
      "source": [
        "# Log transformation (adding a small constant to avoid log(0))\n",
        "X_log = np.log(X + 1e-6 )"
      ],
      "metadata": {
        "id": "Ih8ve_6iNdDm"
      },
      "execution_count": 17,
      "outputs": []
    },
    {
      "cell_type": "code",
      "source": [
        "# Display the transformed features\n",
        "print(\"Standardized features:\\n\", X_scaled[:5])\n",
        "print(\"Normalized features:\\n\", X_normalized[:5])\n",
        "print(\"Log transformed features:\\n\", X_log[:5])"
      ],
      "metadata": {
        "colab": {
          "base_uri": "https://localhost:8080/"
        },
        "collapsed": true,
        "id": "qvHdL5MbNmdD",
        "outputId": "bfaae042-3efc-435f-bbb3-a698a486d776"
      },
      "execution_count": 19,
      "outputs": [
        {
          "output_type": "stream",
          "name": "stdout",
          "text": [
            "Standardized features:\n",
            " [[-0.90068117  1.01900435 -1.34022653 -1.3154443 ]\n",
            " [-1.14301691 -0.13197948 -1.34022653 -1.3154443 ]\n",
            " [-1.38535265  0.32841405 -1.39706395 -1.3154443 ]\n",
            " [-1.50652052  0.09821729 -1.2833891  -1.3154443 ]\n",
            " [-1.02184904  1.24920112 -1.34022653 -1.3154443 ]]\n",
            "Normalized features:\n",
            " [[0.22222222 0.625      0.06779661 0.04166667]\n",
            " [0.16666667 0.41666667 0.06779661 0.04166667]\n",
            " [0.11111111 0.5        0.05084746 0.04166667]\n",
            " [0.08333333 0.45833333 0.08474576 0.04166667]\n",
            " [0.19444444 0.66666667 0.06779661 0.04166667]]\n",
            "Log transformed features:\n",
            "    sepal_length  sepal_width  petal_length  petal_width\n",
            "0      1.629241     1.252763      0.336473    -1.609433\n",
            "1      1.589235     1.098613      0.336473    -1.609433\n",
            "2      1.547563     1.163151      0.262365    -1.609433\n",
            "3      1.526057     1.131402      0.405466    -1.609433\n",
            "4      1.609438     1.280934      0.336473    -1.609433\n"
          ]
        }
      ]
    },
    {
      "cell_type": "markdown",
      "source": [
        "# **3. Feature Creation**"
      ],
      "metadata": {
        "id": "qEHzGr2lOJoZ"
      }
    },
    {
      "cell_type": "code",
      "source": [
        "# Create interaction term: petal_length * petal_width\n",
        "iris['petal_area'] = iris['petal_length'] * iris['petal_width']\n",
        "\n",
        "# Display the new feature\n",
        "print(iris.head())\n"
      ],
      "metadata": {
        "colab": {
          "base_uri": "https://localhost:8080/"
        },
        "id": "gyzqNsnKNvjP",
        "outputId": "ed917073-3d6b-43fa-98c6-4c12a43f532a"
      },
      "execution_count": 21,
      "outputs": [
        {
          "output_type": "stream",
          "name": "stdout",
          "text": [
            "   sepal_length  sepal_width  petal_length  petal_width species  petal_area\n",
            "0           5.1          3.5           1.4          0.2  setosa        0.28\n",
            "1           4.9          3.0           1.4          0.2  setosa        0.28\n",
            "2           4.7          3.2           1.3          0.2  setosa        0.26\n",
            "3           4.6          3.1           1.5          0.2  setosa        0.30\n",
            "4           5.0          3.6           1.4          0.2  setosa        0.28\n"
          ]
        }
      ]
    },
    {
      "cell_type": "markdown",
      "source": [
        "# **4. Polynomial Features**"
      ],
      "metadata": {
        "id": "8npN70t4OnMc"
      }
    },
    {
      "cell_type": "code",
      "source": [
        "from sklearn.preprocessing import PolynomialFeatures\n",
        "\n",
        "# Generate polynomial features\n",
        "poly = PolynomialFeatures(degree=2, include_bias=False)\n",
        "X_poly = poly.fit_transform(X)\n",
        "\n",
        "# Display the new polynomial features\n",
        "print(\"Polynomial features shape:\", X_poly.shape)\n"
      ],
      "metadata": {
        "colab": {
          "base_uri": "https://localhost:8080/"
        },
        "id": "eu4nCwwaOrTM",
        "outputId": "74151295-1423-4ec4-d404-5b98fe6f3f78"
      },
      "execution_count": 27,
      "outputs": [
        {
          "output_type": "stream",
          "name": "stdout",
          "text": [
            "Polynomial features shape: (150, 20)\n"
          ]
        }
      ]
    },
    {
      "cell_type": "markdown",
      "source": [
        "# **5. Handling Categorical Features**"
      ],
      "metadata": {
        "id": "zDtEXyd-O9mm"
      }
    },
    {
      "cell_type": "code",
      "source": [
        "from sklearn.preprocessing import OneHotEncoder, LabelEncoder\n",
        "# One-hot encoding\n",
        "one_hot_encoder = OneHotEncoder(sparse=False)\n",
        "y_one_hot = one_hot_encoder.fit_transform(iris[['species']])\n",
        "\n",
        "# Label encoding\n",
        "label_encoder = LabelEncoder()\n",
        "y_label_encoded = label_encoder.fit_transform(iris['species'])\n",
        "\n",
        "# Display the encoded features\n",
        "print(\"One-hot encoded features:\\n\", y_one_hot[:5])\n",
        "print(\"Label encoded features:\\n\", y_label_encoded[:5])\n"
      ],
      "metadata": {
        "colab": {
          "base_uri": "https://localhost:8080/"
        },
        "id": "yDaiZ_mWPG0J",
        "outputId": "9716951b-773c-481a-c0e3-52107c146b18"
      },
      "execution_count": 28,
      "outputs": [
        {
          "output_type": "stream",
          "name": "stdout",
          "text": [
            "One-hot encoded features:\n",
            " [[1. 0. 0.]\n",
            " [1. 0. 0.]\n",
            " [1. 0. 0.]\n",
            " [1. 0. 0.]\n",
            " [1. 0. 0.]]\n",
            "Label encoded features:\n",
            " [0 0 0 0 0]\n"
          ]
        },
        {
          "output_type": "stream",
          "name": "stderr",
          "text": [
            "/usr/local/lib/python3.10/dist-packages/sklearn/preprocessing/_encoders.py:868: FutureWarning: `sparse` was renamed to `sparse_output` in version 1.2 and will be removed in 1.4. `sparse_output` is ignored unless you leave `sparse` to its default value.\n",
            "  warnings.warn(\n"
          ]
        }
      ]
    }
  ]
}