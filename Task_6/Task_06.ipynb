{
  "nbformat": 4,
  "nbformat_minor": 0,
  "metadata": {
    "colab": {
      "provenance": []
    },
    "kernelspec": {
      "name": "python3",
      "display_name": "Python 3"
    },
    "language_info": {
      "name": "python"
    }
  },
  "cells": [
    {
      "cell_type": "markdown",
      "source": [
        "**Task_06**"
      ],
      "metadata": {
        "id": "p8d9nbOT378_"
      }
    },
    {
      "cell_type": "code",
      "execution_count": 7,
      "metadata": {
        "id": "PICc1r8G3yKs"
      },
      "outputs": [],
      "source": [
        "import os"
      ]
    },
    {
      "cell_type": "markdown",
      "source": [
        "Created a initial data file"
      ],
      "metadata": {
        "id": "4BPe6eb65C6Y"
      }
    },
    {
      "cell_type": "code",
      "source": [
        "initial_data = \"\"\"1,John Doe,20,A\n",
        "2,Jane Smith,21,B\n",
        "3,Jim Brown,22,A\n",
        "4,Jill Taylor,23,C\n",
        "5,Jack Wilson,24,B\n",
        "6,Jenny White,20,A\n",
        "7,James Black,21,C\n",
        "8,Jessica Green,22,B\n",
        "9,Jeremy Blue,23,A\n",
        "10,Jasmine Yellow,24,C\n",
        "\"\"\"\n",
        "\n",
        "with open(\"students.txt\", \"w\") as file:\n",
        "    file.write(initial_data)"
      ],
      "metadata": {
        "id": "qrpAb87H4LYR"
      },
      "execution_count": 8,
      "outputs": []
    },
    {
      "cell_type": "code",
      "source": [
        "from google.colab import files"
      ],
      "metadata": {
        "id": "eP0qJ48i4yG8"
      },
      "execution_count": 10,
      "outputs": []
    },
    {
      "cell_type": "code",
      "source": [
        "# Download the file\n",
        "files.download('students.txt')"
      ],
      "metadata": {
        "colab": {
          "base_uri": "https://localhost:8080/",
          "height": 17
        },
        "id": "gC_tnccO421m",
        "outputId": "9aa3b21c-f1a9-49a6-df05-47d2539c78c4"
      },
      "execution_count": 4,
      "outputs": [
        {
          "output_type": "display_data",
          "data": {
            "text/plain": [
              "<IPython.core.display.Javascript object>"
            ],
            "application/javascript": [
              "\n",
              "    async function download(id, filename, size) {\n",
              "      if (!google.colab.kernel.accessAllowed) {\n",
              "        return;\n",
              "      }\n",
              "      const div = document.createElement('div');\n",
              "      const label = document.createElement('label');\n",
              "      label.textContent = `Downloading \"${filename}\": `;\n",
              "      div.appendChild(label);\n",
              "      const progress = document.createElement('progress');\n",
              "      progress.max = size;\n",
              "      div.appendChild(progress);\n",
              "      document.body.appendChild(div);\n",
              "\n",
              "      const buffers = [];\n",
              "      let downloaded = 0;\n",
              "\n",
              "      const channel = await google.colab.kernel.comms.open(id);\n",
              "      // Send a message to notify the kernel that we're ready.\n",
              "      channel.send({})\n",
              "\n",
              "      for await (const message of channel.messages) {\n",
              "        // Send a message to notify the kernel that we're ready.\n",
              "        channel.send({})\n",
              "        if (message.buffers) {\n",
              "          for (const buffer of message.buffers) {\n",
              "            buffers.push(buffer);\n",
              "            downloaded += buffer.byteLength;\n",
              "            progress.value = downloaded;\n",
              "          }\n",
              "        }\n",
              "      }\n",
              "      const blob = new Blob(buffers, {type: 'application/binary'});\n",
              "      const a = document.createElement('a');\n",
              "      a.href = window.URL.createObjectURL(blob);\n",
              "      a.download = filename;\n",
              "      div.appendChild(a);\n",
              "      a.click();\n",
              "      div.remove();\n",
              "    }\n",
              "  "
            ]
          },
          "metadata": {}
        },
        {
          "output_type": "display_data",
          "data": {
            "text/plain": [
              "<IPython.core.display.Javascript object>"
            ],
            "application/javascript": [
              "download(\"download_232f19bc-d4c0-43f3-a8cc-f0bdf41b345e\", \"students.txt\", 190)"
            ]
          },
          "metadata": {}
        }
      ]
    },
    {
      "cell_type": "code",
      "source": [
        "FILENAME = \"students.txt\"\n",
        "\n",
        "def load_data():\n",
        "    if os.path.exists(FILENAME):\n",
        "        with open(FILENAME, \"r\") as file:\n",
        "            students = []\n",
        "            for line in file:\n",
        "                student_id, student_name, student_age, student_grade = line.strip().split(',')\n",
        "                students.append({\n",
        "                    \"student_id\": student_id,\n",
        "                    \"student_name\": student_name,\n",
        "                    \"student_age\": student_age,\n",
        "                    \"student_grade\": student_grade\n",
        "                })\n",
        "            return students\n",
        "    return []"
      ],
      "metadata": {
        "id": "qBQgT0wN5WjK"
      },
      "execution_count": 11,
      "outputs": []
    },
    {
      "cell_type": "code",
      "source": [
        "def save_data(students):\n",
        "    with open(FILENAME, \"w\") as file:\n",
        "        for student in students:\n",
        "            file.write(f\"{student['student_id']},{student['student_name']},{student['student_age']},{student['student_grade']}\\n\")"
      ],
      "metadata": {
        "id": "u6b9NqPP8tDk"
      },
      "execution_count": 12,
      "outputs": []
    },
    {
      "cell_type": "code",
      "source": [
        "def display_students(students):\n",
        "    if not students:\n",
        "        print(\"No students available.\")\n",
        "    else:\n",
        "        for student in students:\n",
        "            print(f\"ID: {student['student_id']}, Name: {student['student_name']}, Age: {student['student_age']}, Grade: {student['student_grade']}\")"
      ],
      "metadata": {
        "id": "mWSnlnq088Tq"
      },
      "execution_count": 13,
      "outputs": []
    },
    {
      "cell_type": "code",
      "source": [
        "def add_student(students):\n",
        "    student_id = input(\"Enter student ID: \")\n",
        "    if any(student['student_id'] == student_id for student in students):\n",
        "        print(\"Student ID already exists. Cannot add duplicate IDs.\")\n",
        "        return\n",
        "\n",
        "    student_name = input(\"Enter student name: \")\n",
        "    student_age = input(\"Enter student age: \")\n",
        "    student_grade = input(\"Enter student grade: \")\n",
        "\n",
        "    new_student = {\n",
        "        \"student_id\": student_id,\n",
        "        \"student_name\": student_name,\n",
        "        \"student_age\": student_age,\n",
        "        \"student_grade\": student_grade\n",
        "    }\n",
        "    students.append(new_student)\n",
        "    save_data(students)\n",
        "    print(\"Student added successfully.\")\n"
      ],
      "metadata": {
        "id": "xmIg1oUS9GG_"
      },
      "execution_count": 14,
      "outputs": []
    },
    {
      "cell_type": "code",
      "source": [
        "def search_student(students):\n",
        "    student_id = input(\"Enter student ID to search: \")\n",
        "    for student in students:\n",
        "        if student['student_id'] == student_id:\n",
        "            print(f\"ID: {student['student_id']}, Name: {student['student_name']}, Age: {student['student_age']}, Grade: {student['student_grade']}\")\n",
        "            return\n",
        "    print(\"Student not found.\")"
      ],
      "metadata": {
        "id": "kBG06GyK9ne_"
      },
      "execution_count": 15,
      "outputs": []
    },
    {
      "cell_type": "code",
      "source": [
        "\n",
        "def delete_student(students):\n",
        "    student_id = input(\"Enter student ID to delete: \")\n",
        "    for student in students:\n",
        "        if student['student_id'] == student_id:\n",
        "            students.remove(student)\n",
        "            save_data(students)\n",
        "            print(\"Student deleted successfully.\")\n",
        "            return\n",
        "    print(\"Student not found.\")"
      ],
      "metadata": {
        "id": "Tdrftm7U9y-K"
      },
      "execution_count": 16,
      "outputs": []
    },
    {
      "cell_type": "code",
      "source": [
        "def main():\n",
        "    students = load_data()\n",
        "    while True:\n",
        "        print(\"\\n1. Display students\")\n",
        "        print(\"2. Add student\")\n",
        "        print(\"3. Search student\")\n",
        "        print(\"4. Delete student\")\n",
        "        print(\"5. Exit\")\n",
        "\n",
        "        choice = input(\"Enter your choice: \")\n",
        "\n",
        "        if choice == \"1\":\n",
        "            display_students(students)\n",
        "        elif choice == \"2\":\n",
        "            add_student(students)\n",
        "        elif choice == \"3\":\n",
        "            search_student(students)\n",
        "        elif choice == \"4\":\n",
        "            delete_student(students)\n",
        "        elif choice == \"5\":\n",
        "            break\n",
        "        else:\n",
        "            print(\"Invalid choice. Please try again.\")\n",
        "\n",
        "if __name__ == \"__main__\":\n",
        "    main()"
      ],
      "metadata": {
        "colab": {
          "base_uri": "https://localhost:8080/"
        },
        "id": "qj6jkyCM92JL",
        "outputId": "356c5280-dec5-4cf1-b051-118400c160ce"
      },
      "execution_count": 17,
      "outputs": [
        {
          "name": "stdout",
          "output_type": "stream",
          "text": [
            "\n",
            "1. Display students\n",
            "2. Add student\n",
            "3. Search student\n",
            "4. Delete student\n",
            "5. Exit\n",
            "Enter your choice: 1\n",
            "ID: 1, Name: John Doe, Age: 20, Grade: A\n",
            "ID: 2, Name: Jane Smith, Age: 21, Grade: B\n",
            "ID: 3, Name: Jim Brown, Age: 22, Grade: A\n",
            "ID: 4, Name: Jill Taylor, Age: 23, Grade: C\n",
            "ID: 5, Name: Jack Wilson, Age: 24, Grade: B\n",
            "ID: 6, Name: Jenny White, Age: 20, Grade: A\n",
            "ID: 7, Name: James Black, Age: 21, Grade: C\n",
            "ID: 8, Name: Jessica Green, Age: 22, Grade: B\n",
            "ID: 9, Name: Jeremy Blue, Age: 23, Grade: A\n",
            "ID: 10, Name: Jasmine Yellow, Age: 24, Grade: C\n",
            "\n",
            "1. Display students\n",
            "2. Add student\n",
            "3. Search student\n",
            "4. Delete student\n",
            "5. Exit\n",
            "Enter your choice: 3\n",
            "Enter student ID to search: 9\n",
            "ID: 9, Name: Jeremy Blue, Age: 23, Grade: A\n",
            "\n",
            "1. Display students\n",
            "2. Add student\n",
            "3. Search student\n",
            "4. Delete student\n",
            "5. Exit\n",
            "Enter your choice: 2\n",
            "Enter student ID: 15\n",
            "Enter student name: Irtaza Saleem\n",
            "Enter student age: 28\n",
            "Enter student grade: F\n",
            "Student added successfully.\n",
            "\n",
            "1. Display students\n",
            "2. Add student\n",
            "3. Search student\n",
            "4. Delete student\n",
            "5. Exit\n",
            "Enter your choice: 1\n",
            "ID: 1, Name: John Doe, Age: 20, Grade: A\n",
            "ID: 2, Name: Jane Smith, Age: 21, Grade: B\n",
            "ID: 3, Name: Jim Brown, Age: 22, Grade: A\n",
            "ID: 4, Name: Jill Taylor, Age: 23, Grade: C\n",
            "ID: 5, Name: Jack Wilson, Age: 24, Grade: B\n",
            "ID: 6, Name: Jenny White, Age: 20, Grade: A\n",
            "ID: 7, Name: James Black, Age: 21, Grade: C\n",
            "ID: 8, Name: Jessica Green, Age: 22, Grade: B\n",
            "ID: 9, Name: Jeremy Blue, Age: 23, Grade: A\n",
            "ID: 10, Name: Jasmine Yellow, Age: 24, Grade: C\n",
            "ID: 15, Name: Irtaza Saleem, Age: 28, Grade: F\n",
            "\n",
            "1. Display students\n",
            "2. Add student\n",
            "3. Search student\n",
            "4. Delete student\n",
            "5. Exit\n",
            "Enter your choice: 4\n",
            "Enter student ID to delete: 7\n",
            "Student deleted successfully.\n",
            "\n",
            "1. Display students\n",
            "2. Add student\n",
            "3. Search student\n",
            "4. Delete student\n",
            "5. Exit\n",
            "Enter your choice: 1\n",
            "ID: 1, Name: John Doe, Age: 20, Grade: A\n",
            "ID: 2, Name: Jane Smith, Age: 21, Grade: B\n",
            "ID: 3, Name: Jim Brown, Age: 22, Grade: A\n",
            "ID: 4, Name: Jill Taylor, Age: 23, Grade: C\n",
            "ID: 5, Name: Jack Wilson, Age: 24, Grade: B\n",
            "ID: 6, Name: Jenny White, Age: 20, Grade: A\n",
            "ID: 8, Name: Jessica Green, Age: 22, Grade: B\n",
            "ID: 9, Name: Jeremy Blue, Age: 23, Grade: A\n",
            "ID: 10, Name: Jasmine Yellow, Age: 24, Grade: C\n",
            "ID: 15, Name: Irtaza Saleem, Age: 28, Grade: F\n",
            "\n",
            "1. Display students\n",
            "2. Add student\n",
            "3. Search student\n",
            "4. Delete student\n",
            "5. Exit\n",
            "Enter your choice: 5\n"
          ]
        }
      ]
    }
  ]
}